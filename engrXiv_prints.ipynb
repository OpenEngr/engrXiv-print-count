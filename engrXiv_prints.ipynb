{
 "cells": [
  {
   "cell_type": "code",
   "execution_count": 3,
   "id": "promising-potter",
   "metadata": {
    "execution": {
     "iopub.execute_input": "2022-01-19T22:12:06.684943Z",
     "iopub.status.busy": "2022-01-19T22:12:06.684467Z",
     "iopub.status.idle": "2022-01-19T22:12:07.868172Z",
     "shell.execute_reply": "2022-01-19T22:12:07.867654Z"
    },
    "jupyter": {
     "source_hidden": true
    },
    "papermill": {
     "duration": 1.19762,
     "end_time": "2022-01-19T22:12:07.868306",
     "exception": false,
     "start_time": "2022-01-19T22:12:06.670686",
     "status": "completed"
    },
    "tags": []
   },
   "outputs": [
    {
     "name": "stdout",
     "output_type": "stream",
     "text": [
      "Requirement already satisfied: datetime in /opt/homebrew/lib/python3.10/site-packages (from -r requirements.txt (line 1)) (4.7)\n",
      "Requirement already satisfied: IPython in /Users/nick/Library/Python/3.10/lib/python/site-packages (from -r requirements.txt (line 2)) (8.5.0)\n",
      "Requirement already satisfied: matplotlib in /opt/homebrew/lib/python3.10/site-packages (from -r requirements.txt (line 3)) (3.6.0)\n",
      "Requirement already satisfied: pandas in /opt/homebrew/lib/python3.10/site-packages (from -r requirements.txt (line 4)) (1.5.0)\n",
      "Requirement already satisfied: python-dotenv in /opt/homebrew/lib/python3.10/site-packages (from -r requirements.txt (line 5)) (0.21.0)\n",
      "Requirement already satisfied: requests in /opt/homebrew/lib/python3.10/site-packages (from -r requirements.txt (line 6)) (2.28.1)\n",
      "Requirement already satisfied: pytz in /opt/homebrew/lib/python3.10/site-packages (from datetime->-r requirements.txt (line 1)) (2022.2.1)\n",
      "Requirement already satisfied: zope.interface in /opt/homebrew/lib/python3.10/site-packages (from datetime->-r requirements.txt (line 1)) (5.4.0)\n",
      "Requirement already satisfied: backcall in /Users/nick/Library/Python/3.10/lib/python/site-packages (from IPython->-r requirements.txt (line 2)) (0.2.0)\n",
      "Requirement already satisfied: stack-data in /Users/nick/Library/Python/3.10/lib/python/site-packages (from IPython->-r requirements.txt (line 2)) (0.5.1)\n",
      "Requirement already satisfied: pickleshare in /Users/nick/Library/Python/3.10/lib/python/site-packages (from IPython->-r requirements.txt (line 2)) (0.7.5)\n",
      "Requirement already satisfied: pygments>=2.4.0 in /Users/nick/Library/Python/3.10/lib/python/site-packages (from IPython->-r requirements.txt (line 2)) (2.13.0)\n",
      "Requirement already satisfied: pexpect>4.3 in /Users/nick/Library/Python/3.10/lib/python/site-packages (from IPython->-r requirements.txt (line 2)) (4.8.0)\n",
      "Requirement already satisfied: appnope in /Users/nick/Library/Python/3.10/lib/python/site-packages (from IPython->-r requirements.txt (line 2)) (0.1.3)\n",
      "Requirement already satisfied: matplotlib-inline in /Users/nick/Library/Python/3.10/lib/python/site-packages (from IPython->-r requirements.txt (line 2)) (0.1.6)\n",
      "Requirement already satisfied: prompt-toolkit<3.1.0,>3.0.1 in /Users/nick/Library/Python/3.10/lib/python/site-packages (from IPython->-r requirements.txt (line 2)) (3.0.31)\n",
      "Requirement already satisfied: jedi>=0.16 in /Users/nick/Library/Python/3.10/lib/python/site-packages (from IPython->-r requirements.txt (line 2)) (0.18.1)\n",
      "Requirement already satisfied: traitlets>=5 in /Users/nick/Library/Python/3.10/lib/python/site-packages (from IPython->-r requirements.txt (line 2)) (5.4.0)\n",
      "Requirement already satisfied: decorator in /Users/nick/Library/Python/3.10/lib/python/site-packages (from IPython->-r requirements.txt (line 2)) (5.1.1)\n",
      "Requirement already satisfied: contourpy>=1.0.1 in /opt/homebrew/lib/python3.10/site-packages (from matplotlib->-r requirements.txt (line 3)) (1.0.5)\n",
      "Requirement already satisfied: kiwisolver>=1.0.1 in /opt/homebrew/lib/python3.10/site-packages (from matplotlib->-r requirements.txt (line 3)) (1.4.4)\n",
      "Requirement already satisfied: packaging>=20.0 in /Users/nick/Library/Python/3.10/lib/python/site-packages (from matplotlib->-r requirements.txt (line 3)) (21.3)\n",
      "Requirement already satisfied: numpy>=1.19 in /opt/homebrew/lib/python3.10/site-packages (from matplotlib->-r requirements.txt (line 3)) (1.23.3)\n",
      "Requirement already satisfied: pyparsing>=2.2.1 in /Users/nick/Library/Python/3.10/lib/python/site-packages (from matplotlib->-r requirements.txt (line 3)) (3.0.9)\n",
      "Requirement already satisfied: python-dateutil>=2.7 in /Users/nick/Library/Python/3.10/lib/python/site-packages (from matplotlib->-r requirements.txt (line 3)) (2.8.2)\n",
      "Requirement already satisfied: fonttools>=4.22.0 in /opt/homebrew/lib/python3.10/site-packages (from matplotlib->-r requirements.txt (line 3)) (4.37.3)\n",
      "Requirement already satisfied: pillow>=6.2.0 in /opt/homebrew/lib/python3.10/site-packages (from matplotlib->-r requirements.txt (line 3)) (9.2.0)\n",
      "Requirement already satisfied: cycler>=0.10 in /opt/homebrew/lib/python3.10/site-packages (from matplotlib->-r requirements.txt (line 3)) (0.11.0)\n",
      "Requirement already satisfied: certifi>=2017.4.17 in /opt/homebrew/lib/python3.10/site-packages (from requests->-r requirements.txt (line 6)) (2022.9.24)\n",
      "Requirement already satisfied: charset-normalizer<3,>=2 in /opt/homebrew/lib/python3.10/site-packages (from requests->-r requirements.txt (line 6)) (2.1.1)\n",
      "Requirement already satisfied: urllib3<1.27,>=1.21.1 in /opt/homebrew/lib/python3.10/site-packages (from requests->-r requirements.txt (line 6)) (1.26.12)\n",
      "Requirement already satisfied: idna<4,>=2.5 in /opt/homebrew/lib/python3.10/site-packages (from requests->-r requirements.txt (line 6)) (3.4)\n",
      "Requirement already satisfied: parso<0.9.0,>=0.8.0 in /Users/nick/Library/Python/3.10/lib/python/site-packages (from jedi>=0.16->IPython->-r requirements.txt (line 2)) (0.8.3)\n",
      "Requirement already satisfied: ptyprocess>=0.5 in /Users/nick/Library/Python/3.10/lib/python/site-packages (from pexpect>4.3->IPython->-r requirements.txt (line 2)) (0.7.0)\n",
      "Requirement already satisfied: wcwidth in /Users/nick/Library/Python/3.10/lib/python/site-packages (from prompt-toolkit<3.1.0,>3.0.1->IPython->-r requirements.txt (line 2)) (0.2.5)\n",
      "Requirement already satisfied: six>=1.5 in /opt/homebrew/lib/python3.10/site-packages (from python-dateutil>=2.7->matplotlib->-r requirements.txt (line 3)) (1.16.0)\n",
      "Requirement already satisfied: executing in /Users/nick/Library/Python/3.10/lib/python/site-packages (from stack-data->IPython->-r requirements.txt (line 2)) (1.1.0)\n",
      "Requirement already satisfied: asttokens in /Users/nick/Library/Python/3.10/lib/python/site-packages (from stack-data->IPython->-r requirements.txt (line 2)) (2.0.8)\n",
      "Requirement already satisfied: pure-eval in /Users/nick/Library/Python/3.10/lib/python/site-packages (from stack-data->IPython->-r requirements.txt (line 2)) (0.2.2)\n",
      "Requirement already satisfied: setuptools in /opt/homebrew/lib/python3.10/site-packages (from zope.interface->datetime->-r requirements.txt (line 1)) (63.4.3)\n"
     ]
    }
   ],
   "source": [
    "import sys\n",
    "!{sys.executable} -m pip install -r requirements.txt\n",
    "\n",
    "import os\n",
    "import json\n",
    "import requests\n",
    "from requests.auth import HTTPBasicAuth\n",
    "from dotenv import load_dotenv\n",
    "import pandas as pd\n",
    "import matplotlib.pyplot as plt\n",
    "from datetime import date\n",
    "from IPython.display import display, Markdown\n",
    "%matplotlib inline"
   ]
  },
  {
   "cell_type": "code",
   "execution_count": 6,
   "id": "52136c1b",
   "metadata": {},
   "outputs": [
    {
     "name": "stdout",
     "output_type": "stream",
     "text": [
      "Offset: 0\n",
      "100\n",
      "Running another pagination request\n",
      "Offset: 100\n",
      "200\n",
      "Running another pagination request\n",
      "Offset: 200\n",
      "300\n",
      "Running another pagination request\n",
      "Offset: 300\n",
      "400\n",
      "Running another pagination request\n",
      "Offset: 400\n",
      "500\n",
      "Running another pagination request\n",
      "Offset: 500\n",
      "600\n",
      "Running another pagination request\n",
      "Offset: 600\n",
      "700\n",
      "Running another pagination request\n",
      "Offset: 700\n",
      "800\n",
      "Running another pagination request\n",
      "Offset: 800\n",
      "900\n",
      "Running another pagination request\n",
      "Offset: 900\n",
      "1000\n",
      "Running another pagination request\n",
      "Offset: 1000\n",
      "1100\n",
      "Running another pagination request\n",
      "Offset: 1100\n",
      "1200\n",
      "Running another pagination request\n",
      "Offset: 1200\n",
      "1300\n",
      "Running another pagination request\n",
      "Offset: 1300\n",
      "1400\n",
      "Running another pagination request\n",
      "Offset: 1400\n",
      "1500\n",
      "Running another pagination request\n",
      "Offset: 1500\n",
      "1600\n",
      "Running another pagination request\n",
      "Offset: 1600\n",
      "1700\n",
      "Running another pagination request\n",
      "Offset: 1700\n",
      "1800\n",
      "Running another pagination request\n",
      "Offset: 1800\n",
      "1900\n",
      "Running another pagination request\n",
      "Offset: 1900\n",
      "2000\n",
      "Running another pagination request\n",
      "Offset: 2000\n",
      "2100\n",
      "Running another pagination request\n",
      "Offset: 2100\n",
      "2150\n",
      "Finished!\n"
     ]
    }
   ],
   "source": [
    "# Parse environment variables\n",
    "load_dotenv()\n",
    "\n",
    "# Set base URL\n",
    "api = 'https://engrxiv.sfulib4.publicknowledgeproject.org/index.php/engrxiv/api/v1'\n",
    "url = api + '/submissions'\n",
    "\n",
    "# Retrieve API Token from environment variable\n",
    "apiToken = os.environ.get('ENGRXIV_API_TOKEN')\n",
    "\n",
    "# Retrieve Basic Authentication, also from environment variable\n",
    "basicAuthUser = os.environ.get('ENGRXIV_API_USER')\n",
    "basicAuthPass = os.environ.get('ENGRXIV_API_PASS')\n",
    "\n",
    "# Handle pagination through results\n",
    "count = 100\n",
    "offset = 0\n",
    "itemsStore = []\n",
    "\n",
    "def paginateRequests(offset):\n",
    "  # Setup request\n",
    "  basic = HTTPBasicAuth(basicAuthUser, basicAuthPass)\n",
    "  params = {'apiToken': apiToken, 'count': count, 'offset': offset}\n",
    "  response = requests.get(url, auth=basic, params=params)\n",
    "  print('Offset: ' + str(offset))\n",
    "\n",
    "  # Convert response string to JSON\n",
    "  dataJson = json.loads(response.text)\n",
    "  # Grab the retrieved `items`\n",
    "  dataList = dataJson['items']\n",
    "  # Determine how many preprint submissions there are\n",
    "  totalItems = dataJson['itemsMax']\n",
    "  # Save items to memory\n",
    "  itemsStore.extend(dataList)\n",
    "  # Determine how many preprint submissions we have so far\n",
    "  numberStored = len(itemsStore)\n",
    "  print(numberStored)\n",
    "\n",
    "  if numberStored < totalItems:\n",
    "    print('Running another pagination request')\n",
    "    paginateRequests(numberStored)\n",
    "  else:\n",
    "    print('Finished!')\n",
    "    itemsStore\n",
    "\n",
    "# Kick-off requests\n",
    "paginateRequests(0)"
   ]
  },
  {
   "cell_type": "code",
   "execution_count": 7,
   "id": "indonesian-resistance",
   "metadata": {
    "execution": {
     "iopub.execute_input": "2022-01-19T22:12:07.882081Z",
     "iopub.status.busy": "2022-01-19T22:12:07.881613Z",
     "iopub.status.idle": "2022-01-19T22:12:10.244492Z",
     "shell.execute_reply": "2022-01-19T22:12:10.244857Z"
    },
    "jupyter": {
     "source_hidden": true
    },
    "papermill": {
     "duration": 2.370875,
     "end_time": "2022-01-19T22:12:10.244982",
     "exception": false,
     "start_time": "2022-01-19T22:12:07.874107",
     "status": "completed"
    },
    "tags": []
   },
   "outputs": [
    {
     "data": {
      "text/markdown": [
       "# As of September 26, 2022 there are <span style=\"color:red\">2150</span> preprints on Engineering Archive."
      ],
      "text/plain": [
       "<IPython.core.display.Markdown object>"
      ]
     },
     "metadata": {},
     "output_type": "display_data"
    }
   ],
   "source": [
    "data = pd.DataFrame(itemsStore)\n",
    "\n",
    "data.set_index('id',inplace=True)\n",
    "count = range(1,len(data) + 1)\n",
    "data['count'] = count\n",
    "countsum = count[-1]\n",
    "today = date.today()\n",
    "display(Markdown('# As of ' + today.strftime(\"%B %d, %Y\") + ' there are <span style=\\\"color:red\\\">'+ str(countsum) + '</span> preprints on Engineering Archive.'))"
   ]
  },
  {
   "cell_type": "code",
   "execution_count": 8,
   "id": "heard-result",
   "metadata": {
    "execution": {
     "iopub.execute_input": "2022-01-19T22:12:10.260659Z",
     "iopub.status.busy": "2022-01-19T22:12:10.260197Z",
     "iopub.status.idle": "2022-01-19T22:12:10.426565Z",
     "shell.execute_reply": "2022-01-19T22:12:10.426175Z"
    },
    "jupyter": {
     "source_hidden": true
    },
    "papermill": {
     "duration": 0.17568,
     "end_time": "2022-01-19T22:12:10.426669",
     "exception": false,
     "start_time": "2022-01-19T22:12:10.250989",
     "status": "completed"
    },
    "tags": []
   },
   "outputs": [
    {
     "data": {
      "image/png": "[encoded data removed]",
      "text/plain": [
       "<Figure size 1200x600 with 1 Axes>"
      ]
     },
     "metadata": {},
     "output_type": "display_data"
    }
   ],
   "source": [
    "outplot = data.plot(y='count', legend=False, grid='True', figsize=(12,6));\n",
    "outplot.set_xlabel(\"Date Posted\");\n",
    "outplot.set_ylabel(\"Number of engrXiv prints\");"
   ]
  },
  {
   "cell_type": "code",
   "execution_count": 9,
   "id": "falling-scene",
   "metadata": {
    "execution": {
     "iopub.execute_input": "2022-01-19T22:12:10.444048Z",
     "iopub.status.busy": "2022-01-19T22:12:10.443583Z",
     "iopub.status.idle": "2022-01-19T22:12:10.609716Z",
     "shell.execute_reply": "2022-01-19T22:12:10.608980Z"
    },
    "jupyter": {
     "source_hidden": true
    },
    "papermill": {
     "duration": 0.176281,
     "end_time": "2022-01-19T22:12:10.609824",
     "exception": false,
     "start_time": "2022-01-19T22:12:10.433543",
     "status": "completed"
    },
    "tags": []
   },
   "outputs": [
    {
     "ename": "TypeError",
     "evalue": "Only valid with DatetimeIndex, TimedeltaIndex or PeriodIndex, but got an instance of 'Int64Index'",
     "output_type": "error",
     "traceback": [
      "\u001b[0;31m---------------------------------------------------------------------------\u001b[0m",
      "\u001b[0;31mTypeError\u001b[0m                                 Traceback (most recent call last)",
      "Cell \u001b[0;32mIn [9], line 1\u001b[0m\n\u001b[0;32m----> 1\u001b[0m outplot2 \u001b[38;5;241m=\u001b[39m data\u001b[38;5;241m.\u001b[39mresample(\u001b[38;5;124m'\u001b[39m\u001b[38;5;124mM\u001b[39m\u001b[38;5;124m'\u001b[39m)\u001b[38;5;241m.\u001b[39mcount()\u001b[38;5;241m.\u001b[39mplot(y\u001b[38;5;241m=\u001b[39m\u001b[38;5;124m'\u001b[39m\u001b[38;5;124mcount\u001b[39m\u001b[38;5;124m'\u001b[39m, legend\u001b[38;5;241m=\u001b[39m\u001b[38;5;28;01mFalse\u001b[39;00m, grid\u001b[38;5;241m=\u001b[39m\u001b[38;5;124m'\u001b[39m\u001b[38;5;124mTrue\u001b[39m\u001b[38;5;124m'\u001b[39m, figsize\u001b[38;5;241m=\u001b[39m(\u001b[38;5;241m12\u001b[39m,\u001b[38;5;241m6\u001b[39m));\n\u001b[1;32m      2\u001b[0m outplot2\u001b[38;5;241m.\u001b[39mset_xlabel(\u001b[38;5;124m\"\u001b[39m\u001b[38;5;124mDate Posted\u001b[39m\u001b[38;5;124m\"\u001b[39m);\n\u001b[1;32m      3\u001b[0m outplot2\u001b[38;5;241m.\u001b[39mset_ylabel(\u001b[38;5;124m\"\u001b[39m\u001b[38;5;124mNumber of engrXiv prints posted per month\u001b[39m\u001b[38;5;124m\"\u001b[39m)\n",
      "File \u001b[0;32m/opt/homebrew/lib/python3.10/site-packages/pandas/core/frame.py:11414\u001b[0m, in \u001b[0;36mDataFrame.resample\u001b[0;34m(self, rule, axis, closed, label, convention, kind, loffset, base, on, level, origin, offset, group_keys)\u001b[0m\n\u001b[1;32m  11397\u001b[0m \u001b[39m@doc\u001b[39m(NDFrame\u001b[39m.\u001b[39mresample, \u001b[39m*\u001b[39m\u001b[39m*\u001b[39m_shared_doc_kwargs)\n\u001b[1;32m  11398\u001b[0m \u001b[39mdef\u001b[39;00m \u001b[39mresample\u001b[39m(\n\u001b[1;32m  11399\u001b[0m     \u001b[39mself\u001b[39m,\n\u001b[0;32m   (...)\u001b[0m\n\u001b[1;32m  11412\u001b[0m     group_keys: \u001b[39mbool\u001b[39m \u001b[39m|\u001b[39m lib\u001b[39m.\u001b[39mNoDefault \u001b[39m=\u001b[39m no_default,\n\u001b[1;32m  11413\u001b[0m ) \u001b[39m-\u001b[39m\u001b[39m>\u001b[39m Resampler:\n\u001b[0;32m> 11414\u001b[0m     \u001b[39mreturn\u001b[39;00m \u001b[39msuper\u001b[39;49m()\u001b[39m.\u001b[39;49mresample(\n\u001b[1;32m  11415\u001b[0m         rule\u001b[39m=\u001b[39;49mrule,\n\u001b[1;32m  11416\u001b[0m         axis\u001b[39m=\u001b[39;49maxis,\n\u001b[1;32m  11417\u001b[0m         closed\u001b[39m=\u001b[39;49mclosed,\n\u001b[1;32m  11418\u001b[0m         label\u001b[39m=\u001b[39;49mlabel,\n\u001b[1;32m  11419\u001b[0m         convention\u001b[39m=\u001b[39;49mconvention,\n\u001b[1;32m  11420\u001b[0m         kind\u001b[39m=\u001b[39;49mkind,\n\u001b[1;32m  11421\u001b[0m         loffset\u001b[39m=\u001b[39;49mloffset,\n\u001b[1;32m  11422\u001b[0m         base\u001b[39m=\u001b[39;49mbase,\n\u001b[1;32m  11423\u001b[0m         on\u001b[39m=\u001b[39;49mon,\n\u001b[1;32m  11424\u001b[0m         level\u001b[39m=\u001b[39;49mlevel,\n\u001b[1;32m  11425\u001b[0m         origin\u001b[39m=\u001b[39;49morigin,\n\u001b[1;32m  11426\u001b[0m         offset\u001b[39m=\u001b[39;49moffset,\n\u001b[1;32m  11427\u001b[0m         group_keys\u001b[39m=\u001b[39;49mgroup_keys,\n\u001b[1;32m  11428\u001b[0m     )\n",
      "File \u001b[0;32m/opt/homebrew/lib/python3.10/site-packages/pandas/core/generic.py:8863\u001b[0m, in \u001b[0;36mNDFrame.resample\u001b[0;34m(self, rule, axis, closed, label, convention, kind, loffset, base, on, level, origin, offset, group_keys)\u001b[0m\n\u001b[1;32m   8860\u001b[0m \u001b[39mfrom\u001b[39;00m \u001b[39mpandas\u001b[39;00m\u001b[39m.\u001b[39;00m\u001b[39mcore\u001b[39;00m\u001b[39m.\u001b[39;00m\u001b[39mresample\u001b[39;00m \u001b[39mimport\u001b[39;00m get_resampler\n\u001b[1;32m   8862\u001b[0m axis \u001b[39m=\u001b[39m \u001b[39mself\u001b[39m\u001b[39m.\u001b[39m_get_axis_number(axis)\n\u001b[0;32m-> 8863\u001b[0m \u001b[39mreturn\u001b[39;00m get_resampler(\n\u001b[1;32m   8864\u001b[0m     \u001b[39mself\u001b[39;49m,\n\u001b[1;32m   8865\u001b[0m     freq\u001b[39m=\u001b[39;49mrule,\n\u001b[1;32m   8866\u001b[0m     label\u001b[39m=\u001b[39;49mlabel,\n\u001b[1;32m   8867\u001b[0m     closed\u001b[39m=\u001b[39;49mclosed,\n\u001b[1;32m   8868\u001b[0m     axis\u001b[39m=\u001b[39;49maxis,\n\u001b[1;32m   8869\u001b[0m     kind\u001b[39m=\u001b[39;49mkind,\n\u001b[1;32m   8870\u001b[0m     loffset\u001b[39m=\u001b[39;49mloffset,\n\u001b[1;32m   8871\u001b[0m     convention\u001b[39m=\u001b[39;49mconvention,\n\u001b[1;32m   8872\u001b[0m     base\u001b[39m=\u001b[39;49mbase,\n\u001b[1;32m   8873\u001b[0m     key\u001b[39m=\u001b[39;49mon,\n\u001b[1;32m   8874\u001b[0m     level\u001b[39m=\u001b[39;49mlevel,\n\u001b[1;32m   8875\u001b[0m     origin\u001b[39m=\u001b[39;49morigin,\n\u001b[1;32m   8876\u001b[0m     offset\u001b[39m=\u001b[39;49moffset,\n\u001b[1;32m   8877\u001b[0m     group_keys\u001b[39m=\u001b[39;49mgroup_keys,\n\u001b[1;32m   8878\u001b[0m )\n",
      "File \u001b[0;32m/opt/homebrew/lib/python3.10/site-packages/pandas/core/resample.py:1518\u001b[0m, in \u001b[0;36mget_resampler\u001b[0;34m(obj, kind, **kwds)\u001b[0m\n\u001b[1;32m   1514\u001b[0m \u001b[39m\"\"\"\u001b[39;00m\n\u001b[1;32m   1515\u001b[0m \u001b[39mCreate a TimeGrouper and return our resampler.\u001b[39;00m\n\u001b[1;32m   1516\u001b[0m \u001b[39m\"\"\"\u001b[39;00m\n\u001b[1;32m   1517\u001b[0m tg \u001b[39m=\u001b[39m TimeGrouper(\u001b[39m*\u001b[39m\u001b[39m*\u001b[39mkwds)\n\u001b[0;32m-> 1518\u001b[0m \u001b[39mreturn\u001b[39;00m tg\u001b[39m.\u001b[39;49m_get_resampler(obj, kind\u001b[39m=\u001b[39;49mkind)\n",
      "File \u001b[0;32m/opt/homebrew/lib/python3.10/site-packages/pandas/core/resample.py:1699\u001b[0m, in \u001b[0;36mTimeGrouper._get_resampler\u001b[0;34m(self, obj, kind)\u001b[0m\n\u001b[1;32m   1694\u001b[0m \u001b[39melif\u001b[39;00m \u001b[39misinstance\u001b[39m(ax, TimedeltaIndex):\n\u001b[1;32m   1695\u001b[0m     \u001b[39mreturn\u001b[39;00m TimedeltaIndexResampler(\n\u001b[1;32m   1696\u001b[0m         obj, groupby\u001b[39m=\u001b[39m\u001b[39mself\u001b[39m, axis\u001b[39m=\u001b[39m\u001b[39mself\u001b[39m\u001b[39m.\u001b[39maxis, group_keys\u001b[39m=\u001b[39m\u001b[39mself\u001b[39m\u001b[39m.\u001b[39mgroup_keys\n\u001b[1;32m   1697\u001b[0m     )\n\u001b[0;32m-> 1699\u001b[0m \u001b[39mraise\u001b[39;00m \u001b[39mTypeError\u001b[39;00m(\n\u001b[1;32m   1700\u001b[0m     \u001b[39m\"\u001b[39m\u001b[39mOnly valid with DatetimeIndex, \u001b[39m\u001b[39m\"\u001b[39m\n\u001b[1;32m   1701\u001b[0m     \u001b[39m\"\u001b[39m\u001b[39mTimedeltaIndex or PeriodIndex, \u001b[39m\u001b[39m\"\u001b[39m\n\u001b[1;32m   1702\u001b[0m     \u001b[39mf\u001b[39m\u001b[39m\"\u001b[39m\u001b[39mbut got an instance of \u001b[39m\u001b[39m'\u001b[39m\u001b[39m{\u001b[39;00m\u001b[39mtype\u001b[39m(ax)\u001b[39m.\u001b[39m\u001b[39m__name__\u001b[39m\u001b[39m}\u001b[39;00m\u001b[39m'\u001b[39m\u001b[39m\"\u001b[39m\n\u001b[1;32m   1703\u001b[0m )\n",
      "\u001b[0;31mTypeError\u001b[0m: Only valid with DatetimeIndex, TimedeltaIndex or PeriodIndex, but got an instance of 'Int64Index'"
     ]
    }
   ],
   "source": [
    "outplot2 = data.resample('M').count().plot(y='count', legend=False, grid='True', figsize=(12,6));\n",
    "outplot2.set_xlabel(\"Date Posted\");\n",
    "outplot2.set_ylabel(\"Number of engrXiv prints posted per month\");"
   ]
  },
  {
   "cell_type": "code",
   "execution_count": null,
   "id": "intense-reading",
   "metadata": {
    "execution": {
     "iopub.execute_input": "2022-01-19T22:12:10.631966Z",
     "iopub.status.busy": "2022-01-19T22:12:10.629836Z",
     "iopub.status.idle": "2022-01-19T22:12:10.760739Z",
     "shell.execute_reply": "2022-01-19T22:12:10.760365Z"
    },
    "jupyter": {
     "source_hidden": true
    },
    "papermill": {
     "duration": 0.14288,
     "end_time": "2022-01-19T22:12:10.760841",
     "exception": false,
     "start_time": "2022-01-19T22:12:10.617961",
     "status": "completed"
    },
    "tags": []
   },
   "outputs": [],
   "source": [
    "outplot3 = data.resample('Y', kind='period').count().plot.bar(y='count', legend=False, rot=0, grid='True', figsize=(12,6));\n",
    "outplot3.set_xlabel(\"Date Posted\");\n",
    "outplot3.set_ylabel(\"Number of engrXiv prints posted per year\");\n",
    "outplot3.grid(axis='x');"
   ]
  },
  {
   "cell_type": "code",
   "execution_count": null,
   "id": "correct-january",
   "metadata": {
    "execution": {
     "iopub.execute_input": "2022-01-19T22:12:10.782527Z",
     "iopub.status.busy": "2022-01-19T22:12:10.782054Z",
     "iopub.status.idle": "2022-01-19T22:12:10.783862Z",
     "shell.execute_reply": "2022-01-19T22:12:10.784243Z"
    },
    "jupyter": {
     "source_hidden": true
    },
    "papermill": {
     "duration": 0.014731,
     "end_time": "2022-01-19T22:12:10.784348",
     "exception": false,
     "start_time": "2022-01-19T22:12:10.769617",
     "status": "completed"
    },
    "tags": []
   },
   "outputs": [
    {
     "data": {
      "text/html": [
       "<style>\n",
       "div.input {\n",
       "    display:none;\n",
       "}\n",
       "</style>\n"
      ],
      "text/plain": [
       "<IPython.core.display.HTML object>"
      ]
     },
     "metadata": {},
     "output_type": "display_data"
    }
   ],
   "source": [
    "%%html\n",
    "<style>\n",
    "div.input {\n",
    "    display:none;\n",
    "}\n",
    "</style>"
   ]
  }
 ],
 "metadata": {
  "kernelspec": {
   "display_name": "Python 3.10.6 64-bit",
   "language": "python",
   "name": "python3"
  },
  "language_info": {
   "codemirror_mode": {
    "name": "ipython",
    "version": 3
   },
   "file_extension": ".py",
   "mimetype": "text/x-python",
   "name": "python",
   "nbconvert_exporter": "python",
   "pygments_lexer": "ipython3",
   "version": "3.10.6"
  },
  "papermill": {
   "duration": 6.180299,
   "end_time": "2022-01-19T22:12:11.009740",
   "environment_variables": {},
   "exception": null,
   "input_path": "engrXiv_prints.ipynb",
   "output_path": "engrXiv_prints.ipynb",
   "parameters": {
    "Start": "True",
    "secretsPath": "/home/runner/work/_temp/secrets.json"
   },
   "start_time": "2022-01-19T22:12:04.829441",
   "version": "1.1.16"
  },
  "vscode": {
   "interpreter": {
    "hash": "b0fa6594d8f4cbf19f97940f81e996739fb7646882a419484c72d19e05852a7e"
   }
  }
 },
 "nbformat": 4,
 "nbformat_minor": 5
}
