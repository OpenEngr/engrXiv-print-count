{
 "cells": [
  {
   "cell_type": "code",
   "execution_count": 85,
   "id": "promising-potter",
   "metadata": {
    "execution": {
     "iopub.execute_input": "2022-01-19T22:12:06.684943Z",
     "iopub.status.busy": "2022-01-19T22:12:06.684467Z",
     "iopub.status.idle": "2022-01-19T22:12:07.868172Z",
     "shell.execute_reply": "2022-01-19T22:12:07.867654Z"
    },
    "jupyter": {
     "source_hidden": true
    },
    "papermill": {
     "duration": 1.19762,
     "end_time": "2022-01-19T22:12:07.868306",
     "exception": false,
     "start_time": "2022-01-19T22:12:06.670686",
     "status": "completed"
    },
    "tags": []
   },
   "outputs": [
    {
     "name": "stdout",
     "output_type": "stream",
     "text": [
      "Requirement already satisfied: datetime in /opt/homebrew/lib/python3.10/site-packages (from -r requirements.txt (line 1)) (4.5)\n",
      "Requirement already satisfied: IPython in /Users/nick/Library/Python/3.10/lib/python/site-packages (from -r requirements.txt (line 2)) (8.4.0)\n",
      "Requirement already satisfied: matplotlib in /opt/homebrew/lib/python3.10/site-packages (from -r requirements.txt (line 3)) (3.5.3)\n",
      "Requirement already satisfied: pandas in /opt/homebrew/lib/python3.10/site-packages (from -r requirements.txt (line 4)) (1.4.4)\n",
      "Requirement already satisfied: python-dotenv in /opt/homebrew/lib/python3.10/site-packages (from -r requirements.txt (line 5)) (0.21.0)\n",
      "Requirement already satisfied: requests in /opt/homebrew/lib/python3.10/site-packages (from -r requirements.txt (line 6)) (2.28.1)\n",
      "Requirement already satisfied: pytz in /opt/homebrew/lib/python3.10/site-packages (from datetime->-r requirements.txt (line 1)) (2022.2.1)\n",
      "Requirement already satisfied: zope.interface in /opt/homebrew/lib/python3.10/site-packages (from datetime->-r requirements.txt (line 1)) (5.4.0)\n",
      "Requirement already satisfied: prompt-toolkit!=3.0.0,!=3.0.1,<3.1.0,>=2.0.0 in /Users/nick/Library/Python/3.10/lib/python/site-packages (from IPython->-r requirements.txt (line 2)) (3.0.31)\n",
      "Requirement already satisfied: stack-data in /Users/nick/Library/Python/3.10/lib/python/site-packages (from IPython->-r requirements.txt (line 2)) (0.5.0)\n",
      "Requirement already satisfied: jedi>=0.16 in /Users/nick/Library/Python/3.10/lib/python/site-packages (from IPython->-r requirements.txt (line 2)) (0.18.1)\n",
      "Requirement already satisfied: setuptools>=18.5 in /opt/homebrew/lib/python3.10/site-packages (from IPython->-r requirements.txt (line 2)) (63.4.3)\n",
      "Requirement already satisfied: appnope in /Users/nick/Library/Python/3.10/lib/python/site-packages (from IPython->-r requirements.txt (line 2)) (0.1.3)\n",
      "Requirement already satisfied: matplotlib-inline in /Users/nick/Library/Python/3.10/lib/python/site-packages (from IPython->-r requirements.txt (line 2)) (0.1.6)\n",
      "Requirement already satisfied: pygments>=2.4.0 in /Users/nick/Library/Python/3.10/lib/python/site-packages (from IPython->-r requirements.txt (line 2)) (2.13.0)\n",
      "Requirement already satisfied: pexpect>4.3 in /Users/nick/Library/Python/3.10/lib/python/site-packages (from IPython->-r requirements.txt (line 2)) (4.8.0)\n",
      "Requirement already satisfied: decorator in /Users/nick/Library/Python/3.10/lib/python/site-packages (from IPython->-r requirements.txt (line 2)) (5.1.1)\n",
      "Requirement already satisfied: traitlets>=5 in /Users/nick/Library/Python/3.10/lib/python/site-packages (from IPython->-r requirements.txt (line 2)) (5.3.0)\n",
      "Requirement already satisfied: pickleshare in /Users/nick/Library/Python/3.10/lib/python/site-packages (from IPython->-r requirements.txt (line 2)) (0.7.5)\n",
      "Requirement already satisfied: backcall in /Users/nick/Library/Python/3.10/lib/python/site-packages (from IPython->-r requirements.txt (line 2)) (0.2.0)\n",
      "Requirement already satisfied: pillow>=6.2.0 in /opt/homebrew/lib/python3.10/site-packages (from matplotlib->-r requirements.txt (line 3)) (9.2.0)\n",
      "Requirement already satisfied: kiwisolver>=1.0.1 in /opt/homebrew/lib/python3.10/site-packages (from matplotlib->-r requirements.txt (line 3)) (1.4.4)\n",
      "Requirement already satisfied: packaging>=20.0 in /Users/nick/Library/Python/3.10/lib/python/site-packages (from matplotlib->-r requirements.txt (line 3)) (21.3)\n",
      "Requirement already satisfied: cycler>=0.10 in /opt/homebrew/lib/python3.10/site-packages (from matplotlib->-r requirements.txt (line 3)) (0.11.0)\n",
      "Requirement already satisfied: numpy>=1.17 in /opt/homebrew/lib/python3.10/site-packages (from matplotlib->-r requirements.txt (line 3)) (1.23.2)\n",
      "Requirement already satisfied: pyparsing>=2.2.1 in /Users/nick/Library/Python/3.10/lib/python/site-packages (from matplotlib->-r requirements.txt (line 3)) (3.0.9)\n",
      "Requirement already satisfied: fonttools>=4.22.0 in /opt/homebrew/lib/python3.10/site-packages (from matplotlib->-r requirements.txt (line 3)) (4.37.1)\n",
      "Requirement already satisfied: python-dateutil>=2.7 in /Users/nick/Library/Python/3.10/lib/python/site-packages (from matplotlib->-r requirements.txt (line 3)) (2.8.2)\n",
      "Requirement already satisfied: urllib3<1.27,>=1.21.1 in /opt/homebrew/lib/python3.10/site-packages (from requests->-r requirements.txt (line 6)) (1.26.12)\n",
      "Requirement already satisfied: charset-normalizer<3,>=2 in /opt/homebrew/lib/python3.10/site-packages (from requests->-r requirements.txt (line 6)) (2.1.1)\n",
      "Requirement already satisfied: certifi>=2017.4.17 in /opt/homebrew/lib/python3.10/site-packages (from requests->-r requirements.txt (line 6)) (2022.6.15)\n",
      "Requirement already satisfied: idna<4,>=2.5 in /opt/homebrew/lib/python3.10/site-packages (from requests->-r requirements.txt (line 6)) (3.3)\n",
      "Requirement already satisfied: parso<0.9.0,>=0.8.0 in /Users/nick/Library/Python/3.10/lib/python/site-packages (from jedi>=0.16->IPython->-r requirements.txt (line 2)) (0.8.3)\n",
      "Requirement already satisfied: ptyprocess>=0.5 in /Users/nick/Library/Python/3.10/lib/python/site-packages (from pexpect>4.3->IPython->-r requirements.txt (line 2)) (0.7.0)\n",
      "Requirement already satisfied: wcwidth in /Users/nick/Library/Python/3.10/lib/python/site-packages (from prompt-toolkit!=3.0.0,!=3.0.1,<3.1.0,>=2.0.0->IPython->-r requirements.txt (line 2)) (0.2.5)\n",
      "Requirement already satisfied: six>=1.5 in /opt/homebrew/lib/python3.10/site-packages (from python-dateutil>=2.7->matplotlib->-r requirements.txt (line 3)) (1.16.0)\n",
      "Requirement already satisfied: pure-eval in /Users/nick/Library/Python/3.10/lib/python/site-packages (from stack-data->IPython->-r requirements.txt (line 2)) (0.2.2)\n",
      "Requirement already satisfied: executing in /Users/nick/Library/Python/3.10/lib/python/site-packages (from stack-data->IPython->-r requirements.txt (line 2)) (1.0.0)\n",
      "Requirement already satisfied: asttokens in /Users/nick/Library/Python/3.10/lib/python/site-packages (from stack-data->IPython->-r requirements.txt (line 2)) (2.0.8)\n"
     ]
    }
   ],
   "source": [
    "import sys\n",
    "!{sys.executable} -m pip install -r requirements.txt\n",
    "\n",
    "import os\n",
    "import json\n",
    "import requests\n",
    "from requests.auth import HTTPBasicAuth\n",
    "from dotenv import load_dotenv\n",
    "import pandas as pd\n",
    "import matplotlib.pyplot as plt\n",
    "from datetime import date\n",
    "from IPython.display import display, Markdown\n",
    "%matplotlib inline"
   ]
  },
  {
   "cell_type": "code",
   "execution_count": 94,
   "id": "52136c1b",
   "metadata": {},
   "outputs": [],
   "source": [
    "# Parse environment variables\n",
    "load_dotenv()\n",
    "\n",
    "# Set base URL\n",
    "api = 'https://engrxiv.sfulib4.publicknowledgeproject.org/index.php/engrxiv/api/v1'\n",
    "url = api + '/submissions'\n",
    "\n",
    "# Retrieve API Token from environment variable\n",
    "apiToken = os.environ.get('ENGRXIV_API_TOKEN')\n",
    "\n",
    "# Retrieve Basic Authentication, also from environment variable\n",
    "basicAuthUser = os.environ.get('ENGRXIV_API_USER')\n",
    "basicAuthPass = os.environ.get('ENGRXIV_API_PASS')\n",
    "\n",
    "# Handle pagination through results\n",
    "count = 100\n",
    "offset = 0\n",
    "itemsStore = []\n",
    "\n",
    "def paginateRequests(offset):\n",
    "  # Setup request\n",
    "  basic = HTTPBasicAuth(basicAuthUser, basicAuthPass)\n",
    "  params = {'apiToken': apiToken, 'count': count, 'offset': offset}\n",
    "  response = requests.get(url, auth=basic, params=params)\n",
    "\n",
    "  # Convert response string to JSON\n",
    "  dataJson = json.loads(response.text)\n",
    "  # Grab the retrieved `items`\n",
    "  dataList = dataJson['items']\n",
    "  # Determine how many preprint submissions there are\n",
    "  totalItems = dataJson['itemsMax']\n",
    "  # Save items to memory\n",
    "  itemsStore.extend(dataList)\n",
    "  # Determine how many preprint submissions we have so far\n",
    "  numberStored = len(itemsStore)\n",
    "\n",
    "  if numberStored < totalItems:\n",
    "    paginateRequests(numberStored)\n",
    "  else:\n",
    "    itemsStore\n",
    "\n",
    "# Kick-off requests\n",
    "paginateRequests(0)"
   ]
  },
  {
   "cell_type": "code",
   "execution_count": 97,
   "id": "indonesian-resistance",
   "metadata": {
    "execution": {
     "iopub.execute_input": "2022-01-19T22:12:07.882081Z",
     "iopub.status.busy": "2022-01-19T22:12:07.881613Z",
     "iopub.status.idle": "2022-01-19T22:12:10.244492Z",
     "shell.execute_reply": "2022-01-19T22:12:10.244857Z"
    },
    "jupyter": {
     "source_hidden": true
    },
    "papermill": {
     "duration": 2.370875,
     "end_time": "2022-01-19T22:12:10.244982",
     "exception": false,
     "start_time": "2022-01-19T22:12:07.874107",
     "status": "completed"
    },
    "tags": []
   },
   "outputs": [
    {
     "data": {
      "text/markdown": [
       "# As of September 15, 2022 there are <span style=\"color:red\">20</span> preprints on Engineering Archive."
      ],
      "text/plain": [
       "<IPython.core.display.Markdown object>"
      ]
     },
     "metadata": {},
     "output_type": "display_data"
    }
   ],
   "source": [
    "data = pd.DataFrame(itemsStore)\n",
    "\n",
    "data.set_index('id',inplace=True)\n",
    "count = range(1,len(data) + 1)\n",
    "data['count'] = count\n",
    "countsum = count[-1]\n",
    "today = date.today()\n",
    "display(Markdown('# As of ' + today.strftime(\"%B %d, %Y\") + ' there are <span style=\\\"color:red\\\">'+ str(countsum) + '</span> preprints on Engineering Archive.'))"
   ]
  },
  {
   "cell_type": "code",
   "execution_count": 98,
   "id": "heard-result",
   "metadata": {
    "execution": {
     "iopub.execute_input": "2022-01-19T22:12:10.260659Z",
     "iopub.status.busy": "2022-01-19T22:12:10.260197Z",
     "iopub.status.idle": "2022-01-19T22:12:10.426565Z",
     "shell.execute_reply": "2022-01-19T22:12:10.426175Z"
    },
    "jupyter": {
     "source_hidden": true
    },
    "papermill": {
     "duration": 0.17568,
     "end_time": "2022-01-19T22:12:10.426669",
     "exception": false,
     "start_time": "2022-01-19T22:12:10.250989",
     "status": "completed"
    },
    "tags": []
   },
   "outputs": [
    {
     "data": {
      "image/png": "[encoded data removed]",
      "text/plain": [
       "<Figure size 1200x600 with 1 Axes>"
      ]
     },
     "metadata": {},
     "output_type": "display_data"
    }
   ],
   "source": [
    "outplot = data.plot(y='count', legend=False, grid='True', figsize=(12,6));\n",
    "outplot.set_xlabel(\"Date Posted\");\n",
    "outplot.set_ylabel(\"Number of engrXiv prints\");"
   ]
  },
  {
   "cell_type": "code",
   "execution_count": 99,
   "id": "falling-scene",
   "metadata": {
    "execution": {
     "iopub.execute_input": "2022-01-19T22:12:10.444048Z",
     "iopub.status.busy": "2022-01-19T22:12:10.443583Z",
     "iopub.status.idle": "2022-01-19T22:12:10.609716Z",
     "shell.execute_reply": "2022-01-19T22:12:10.608980Z"
    },
    "jupyter": {
     "source_hidden": true
    },
    "papermill": {
     "duration": 0.176281,
     "end_time": "2022-01-19T22:12:10.609824",
     "exception": false,
     "start_time": "2022-01-19T22:12:10.433543",
     "status": "completed"
    },
    "tags": []
   },
   "outputs": [
    {
     "ename": "TypeError",
     "evalue": "Only valid with DatetimeIndex, TimedeltaIndex or PeriodIndex, but got an instance of 'Int64Index'",
     "output_type": "error",
     "traceback": [
      "\u001b[0;31m---------------------------------------------------------------------------\u001b[0m",
      "\u001b[0;31mTypeError\u001b[0m                                 Traceback (most recent call last)",
      "\u001b[1;32m/Users/nick/code/sandbox/nickEngrXiv/engrXiv_prints.ipynb Cell 5\u001b[0m in \u001b[0;36m<cell line: 1>\u001b[0;34m()\u001b[0m\n\u001b[0;32m----> <a href='vscode-notebook-cell:/Users/nick/code/sandbox/nickEngrXiv/engrXiv_prints.ipynb#W4sZmlsZQ%3D%3D?line=0'>1</a>\u001b[0m outplot2 \u001b[39m=\u001b[39m data\u001b[39m.\u001b[39;49mresample(\u001b[39m'\u001b[39;49m\u001b[39mM\u001b[39;49m\u001b[39m'\u001b[39;49m)\u001b[39m.\u001b[39mcount()\u001b[39m.\u001b[39mplot(y\u001b[39m=\u001b[39m\u001b[39m'\u001b[39m\u001b[39mcount\u001b[39m\u001b[39m'\u001b[39m, legend\u001b[39m=\u001b[39m\u001b[39mFalse\u001b[39;00m, grid\u001b[39m=\u001b[39m\u001b[39m'\u001b[39m\u001b[39mTrue\u001b[39m\u001b[39m'\u001b[39m, figsize\u001b[39m=\u001b[39m(\u001b[39m12\u001b[39m,\u001b[39m6\u001b[39m));\n\u001b[1;32m      <a href='vscode-notebook-cell:/Users/nick/code/sandbox/nickEngrXiv/engrXiv_prints.ipynb#W4sZmlsZQ%3D%3D?line=1'>2</a>\u001b[0m outplot2\u001b[39m.\u001b[39mset_xlabel(\u001b[39m\"\u001b[39m\u001b[39mDate Posted\u001b[39m\u001b[39m\"\u001b[39m);\n\u001b[1;32m      <a href='vscode-notebook-cell:/Users/nick/code/sandbox/nickEngrXiv/engrXiv_prints.ipynb#W4sZmlsZQ%3D%3D?line=2'>3</a>\u001b[0m outplot2\u001b[39m.\u001b[39mset_ylabel(\u001b[39m\"\u001b[39m\u001b[39mNumber of engrXiv prints posted per month\u001b[39m\u001b[39m\"\u001b[39m)\n",
      "File \u001b[0;32m/opt/homebrew/lib/python3.10/site-packages/pandas/core/frame.py:10550\u001b[0m, in \u001b[0;36mDataFrame.resample\u001b[0;34m(self, rule, axis, closed, label, convention, kind, loffset, base, on, level, origin, offset)\u001b[0m\n\u001b[1;32m  10534\u001b[0m \u001b[39m@doc\u001b[39m(NDFrame\u001b[39m.\u001b[39mresample, \u001b[39m*\u001b[39m\u001b[39m*\u001b[39m_shared_doc_kwargs)\n\u001b[1;32m  10535\u001b[0m \u001b[39mdef\u001b[39;00m \u001b[39mresample\u001b[39m(\n\u001b[1;32m  10536\u001b[0m     \u001b[39mself\u001b[39m,\n\u001b[0;32m   (...)\u001b[0m\n\u001b[1;32m  10548\u001b[0m     offset: TimedeltaConvertibleTypes \u001b[39m|\u001b[39m \u001b[39mNone\u001b[39;00m \u001b[39m=\u001b[39m \u001b[39mNone\u001b[39;00m,\n\u001b[1;32m  10549\u001b[0m ) \u001b[39m-\u001b[39m\u001b[39m>\u001b[39m Resampler:\n\u001b[0;32m> 10550\u001b[0m     \u001b[39mreturn\u001b[39;00m \u001b[39msuper\u001b[39;49m()\u001b[39m.\u001b[39;49mresample(\n\u001b[1;32m  10551\u001b[0m         rule\u001b[39m=\u001b[39;49mrule,\n\u001b[1;32m  10552\u001b[0m         axis\u001b[39m=\u001b[39;49maxis,\n\u001b[1;32m  10553\u001b[0m         closed\u001b[39m=\u001b[39;49mclosed,\n\u001b[1;32m  10554\u001b[0m         label\u001b[39m=\u001b[39;49mlabel,\n\u001b[1;32m  10555\u001b[0m         convention\u001b[39m=\u001b[39;49mconvention,\n\u001b[1;32m  10556\u001b[0m         kind\u001b[39m=\u001b[39;49mkind,\n\u001b[1;32m  10557\u001b[0m         loffset\u001b[39m=\u001b[39;49mloffset,\n\u001b[1;32m  10558\u001b[0m         base\u001b[39m=\u001b[39;49mbase,\n\u001b[1;32m  10559\u001b[0m         on\u001b[39m=\u001b[39;49mon,\n\u001b[1;32m  10560\u001b[0m         level\u001b[39m=\u001b[39;49mlevel,\n\u001b[1;32m  10561\u001b[0m         origin\u001b[39m=\u001b[39;49morigin,\n\u001b[1;32m  10562\u001b[0m         offset\u001b[39m=\u001b[39;49moffset,\n\u001b[1;32m  10563\u001b[0m     )\n",
      "File \u001b[0;32m/opt/homebrew/lib/python3.10/site-packages/pandas/core/generic.py:8313\u001b[0m, in \u001b[0;36mNDFrame.resample\u001b[0;34m(self, rule, axis, closed, label, convention, kind, loffset, base, on, level, origin, offset)\u001b[0m\n\u001b[1;32m   8310\u001b[0m \u001b[39mfrom\u001b[39;00m \u001b[39mpandas\u001b[39;00m\u001b[39m.\u001b[39;00m\u001b[39mcore\u001b[39;00m\u001b[39m.\u001b[39;00m\u001b[39mresample\u001b[39;00m \u001b[39mimport\u001b[39;00m get_resampler\n\u001b[1;32m   8312\u001b[0m axis \u001b[39m=\u001b[39m \u001b[39mself\u001b[39m\u001b[39m.\u001b[39m_get_axis_number(axis)\n\u001b[0;32m-> 8313\u001b[0m \u001b[39mreturn\u001b[39;00m get_resampler(\n\u001b[1;32m   8314\u001b[0m     \u001b[39mself\u001b[39;49m,\n\u001b[1;32m   8315\u001b[0m     freq\u001b[39m=\u001b[39;49mrule,\n\u001b[1;32m   8316\u001b[0m     label\u001b[39m=\u001b[39;49mlabel,\n\u001b[1;32m   8317\u001b[0m     closed\u001b[39m=\u001b[39;49mclosed,\n\u001b[1;32m   8318\u001b[0m     axis\u001b[39m=\u001b[39;49maxis,\n\u001b[1;32m   8319\u001b[0m     kind\u001b[39m=\u001b[39;49mkind,\n\u001b[1;32m   8320\u001b[0m     loffset\u001b[39m=\u001b[39;49mloffset,\n\u001b[1;32m   8321\u001b[0m     convention\u001b[39m=\u001b[39;49mconvention,\n\u001b[1;32m   8322\u001b[0m     base\u001b[39m=\u001b[39;49mbase,\n\u001b[1;32m   8323\u001b[0m     key\u001b[39m=\u001b[39;49mon,\n\u001b[1;32m   8324\u001b[0m     level\u001b[39m=\u001b[39;49mlevel,\n\u001b[1;32m   8325\u001b[0m     origin\u001b[39m=\u001b[39;49morigin,\n\u001b[1;32m   8326\u001b[0m     offset\u001b[39m=\u001b[39;49moffset,\n\u001b[1;32m   8327\u001b[0m )\n",
      "File \u001b[0;32m/opt/homebrew/lib/python3.10/site-packages/pandas/core/resample.py:1423\u001b[0m, in \u001b[0;36mget_resampler\u001b[0;34m(obj, kind, **kwds)\u001b[0m\n\u001b[1;32m   1419\u001b[0m \u001b[39m\"\"\"\u001b[39;00m\n\u001b[1;32m   1420\u001b[0m \u001b[39mCreate a TimeGrouper and return our resampler.\u001b[39;00m\n\u001b[1;32m   1421\u001b[0m \u001b[39m\"\"\"\u001b[39;00m\n\u001b[1;32m   1422\u001b[0m tg \u001b[39m=\u001b[39m TimeGrouper(\u001b[39m*\u001b[39m\u001b[39m*\u001b[39mkwds)\n\u001b[0;32m-> 1423\u001b[0m \u001b[39mreturn\u001b[39;00m tg\u001b[39m.\u001b[39;49m_get_resampler(obj, kind\u001b[39m=\u001b[39;49mkind)\n",
      "File \u001b[0;32m/opt/homebrew/lib/python3.10/site-packages/pandas/core/resample.py:1599\u001b[0m, in \u001b[0;36mTimeGrouper._get_resampler\u001b[0;34m(self, obj, kind)\u001b[0m\n\u001b[1;32m   1596\u001b[0m \u001b[39melif\u001b[39;00m \u001b[39misinstance\u001b[39m(ax, TimedeltaIndex):\n\u001b[1;32m   1597\u001b[0m     \u001b[39mreturn\u001b[39;00m TimedeltaIndexResampler(obj, groupby\u001b[39m=\u001b[39m\u001b[39mself\u001b[39m, axis\u001b[39m=\u001b[39m\u001b[39mself\u001b[39m\u001b[39m.\u001b[39maxis)\n\u001b[0;32m-> 1599\u001b[0m \u001b[39mraise\u001b[39;00m \u001b[39mTypeError\u001b[39;00m(\n\u001b[1;32m   1600\u001b[0m     \u001b[39m\"\u001b[39m\u001b[39mOnly valid with DatetimeIndex, \u001b[39m\u001b[39m\"\u001b[39m\n\u001b[1;32m   1601\u001b[0m     \u001b[39m\"\u001b[39m\u001b[39mTimedeltaIndex or PeriodIndex, \u001b[39m\u001b[39m\"\u001b[39m\n\u001b[1;32m   1602\u001b[0m     \u001b[39mf\u001b[39m\u001b[39m\"\u001b[39m\u001b[39mbut got an instance of \u001b[39m\u001b[39m'\u001b[39m\u001b[39m{\u001b[39;00m\u001b[39mtype\u001b[39m(ax)\u001b[39m.\u001b[39m\u001b[39m__name__\u001b[39m\u001b[39m}\u001b[39;00m\u001b[39m'\u001b[39m\u001b[39m\"\u001b[39m\n\u001b[1;32m   1603\u001b[0m )\n",
      "\u001b[0;31mTypeError\u001b[0m: Only valid with DatetimeIndex, TimedeltaIndex or PeriodIndex, but got an instance of 'Int64Index'"
     ]
    }
   ],
   "source": [
    "outplot2 = data.resample('M').count().plot(y='count', legend=False, grid='True', figsize=(12,6));\n",
    "outplot2.set_xlabel(\"Date Posted\");\n",
    "outplot2.set_ylabel(\"Number of engrXiv prints posted per month\");"
   ]
  },
  {
   "cell_type": "code",
   "execution_count": null,
   "id": "intense-reading",
   "metadata": {
    "execution": {
     "iopub.execute_input": "2022-01-19T22:12:10.631966Z",
     "iopub.status.busy": "2022-01-19T22:12:10.629836Z",
     "iopub.status.idle": "2022-01-19T22:12:10.760739Z",
     "shell.execute_reply": "2022-01-19T22:12:10.760365Z"
    },
    "jupyter": {
     "source_hidden": true
    },
    "papermill": {
     "duration": 0.14288,
     "end_time": "2022-01-19T22:12:10.760841",
     "exception": false,
     "start_time": "2022-01-19T22:12:10.617961",
     "status": "completed"
    },
    "tags": []
   },
   "outputs": [],
   "source": [
    "outplot3 = data.resample('Y', kind='period').count().plot.bar(y='count', legend=False, rot=0, grid='True', figsize=(12,6));\n",
    "outplot3.set_xlabel(\"Date Posted\");\n",
    "outplot3.set_ylabel(\"Number of engrXiv prints posted per year\");\n",
    "outplot3.grid(axis='x');"
   ]
  },
  {
   "cell_type": "code",
   "execution_count": null,
   "id": "correct-january",
   "metadata": {
    "execution": {
     "iopub.execute_input": "2022-01-19T22:12:10.782527Z",
     "iopub.status.busy": "2022-01-19T22:12:10.782054Z",
     "iopub.status.idle": "2022-01-19T22:12:10.783862Z",
     "shell.execute_reply": "2022-01-19T22:12:10.784243Z"
    },
    "jupyter": {
     "source_hidden": true
    },
    "papermill": {
     "duration": 0.014731,
     "end_time": "2022-01-19T22:12:10.784348",
     "exception": false,
     "start_time": "2022-01-19T22:12:10.769617",
     "status": "completed"
    },
    "tags": []
   },
   "outputs": [
    {
     "data": {
      "text/html": [
       "<style>\n",
       "div.input {\n",
       "    display:none;\n",
       "}\n",
       "</style>\n"
      ],
      "text/plain": [
       "<IPython.core.display.HTML object>"
      ]
     },
     "metadata": {},
     "output_type": "display_data"
    }
   ],
   "source": [
    "%%html\n",
    "<style>\n",
    "div.input {\n",
    "    display:none;\n",
    "}\n",
    "</style>"
   ]
  }
 ],
 "metadata": {
  "kernelspec": {
   "display_name": "Python 3.10.6 64-bit",
   "language": "python",
   "name": "python3"
  },
  "language_info": {
   "codemirror_mode": {
    "name": "ipython",
    "version": 3
   },
   "file_extension": ".py",
   "mimetype": "text/x-python",
   "name": "python",
   "nbconvert_exporter": "python",
   "pygments_lexer": "ipython3",
   "version": "3.10.6"
  },
  "papermill": {
   "duration": 6.180299,
   "end_time": "2022-01-19T22:12:11.009740",
   "environment_variables": {},
   "exception": null,
   "input_path": "engrXiv_prints.ipynb",
   "output_path": "engrXiv_prints.ipynb",
   "parameters": {
    "Start": "True",
    "secretsPath": "/home/runner/work/_temp/secrets.json"
   },
   "start_time": "2022-01-19T22:12:04.829441",
   "version": "1.1.16"
  },
  "vscode": {
   "interpreter": {
    "hash": "b0fa6594d8f4cbf19f97940f81e996739fb7646882a419484c72d19e05852a7e"
   }
  }
 },
 "nbformat": 4,
 "nbformat_minor": 5
}
