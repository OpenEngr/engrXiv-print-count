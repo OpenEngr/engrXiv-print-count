{
 "cells": [
  {
   "cell_type": "code",
   "execution_count": 26,
   "id": "promising-potter",
   "metadata": {
    "execution": {
     "iopub.execute_input": "2022-01-19T22:12:06.684943Z",
     "iopub.status.busy": "2022-01-19T22:12:06.684467Z",
     "iopub.status.idle": "2022-01-19T22:12:07.868172Z",
     "shell.execute_reply": "2022-01-19T22:12:07.867654Z"
    },
    "jupyter": {
     "source_hidden": true
    },
    "papermill": {
     "duration": 1.19762,
     "end_time": "2022-01-19T22:12:07.868306",
     "exception": false,
     "start_time": "2022-01-19T22:12:06.670686",
     "status": "completed"
    },
    "tags": []
   },
   "outputs": [
    {
     "name": "stdout",
     "output_type": "stream",
     "text": [
      "Requirement already satisfied: datetime in /opt/homebrew/lib/python3.10/site-packages (from -r requirements.txt (line 1)) (4.5)\n",
      "Requirement already satisfied: IPython in /Users/nick/Library/Python/3.10/lib/python/site-packages (from -r requirements.txt (line 2)) (8.4.0)\n",
      "Requirement already satisfied: matplotlib in /opt/homebrew/lib/python3.10/site-packages (from -r requirements.txt (line 3)) (3.5.3)\n",
      "Requirement already satisfied: pandas in /opt/homebrew/lib/python3.10/site-packages (from -r requirements.txt (line 4)) (1.4.4)\n",
      "Collecting python-dotenv\n",
      "  Downloading python_dotenv-0.21.0-py3-none-any.whl (18 kB)\n",
      "Requirement already satisfied: requests in /opt/homebrew/lib/python3.10/site-packages (from -r requirements.txt (line 6)) (2.28.1)\n",
      "Requirement already satisfied: pytz in /opt/homebrew/lib/python3.10/site-packages (from datetime->-r requirements.txt (line 1)) (2022.2.1)\n",
      "Requirement already satisfied: zope.interface in /opt/homebrew/lib/python3.10/site-packages (from datetime->-r requirements.txt (line 1)) (5.4.0)\n",
      "Requirement already satisfied: backcall in /Users/nick/Library/Python/3.10/lib/python/site-packages (from IPython->-r requirements.txt (line 2)) (0.2.0)\n",
      "Requirement already satisfied: setuptools>=18.5 in /opt/homebrew/lib/python3.10/site-packages (from IPython->-r requirements.txt (line 2)) (63.4.3)\n",
      "Requirement already satisfied: pickleshare in /Users/nick/Library/Python/3.10/lib/python/site-packages (from IPython->-r requirements.txt (line 2)) (0.7.5)\n",
      "Requirement already satisfied: appnope in /Users/nick/Library/Python/3.10/lib/python/site-packages (from IPython->-r requirements.txt (line 2)) (0.1.3)\n",
      "Requirement already satisfied: stack-data in /Users/nick/Library/Python/3.10/lib/python/site-packages (from IPython->-r requirements.txt (line 2)) (0.5.0)\n",
      "Requirement already satisfied: decorator in /Users/nick/Library/Python/3.10/lib/python/site-packages (from IPython->-r requirements.txt (line 2)) (5.1.1)\n",
      "Requirement already satisfied: pygments>=2.4.0 in /Users/nick/Library/Python/3.10/lib/python/site-packages (from IPython->-r requirements.txt (line 2)) (2.13.0)\n",
      "Requirement already satisfied: pexpect>4.3 in /Users/nick/Library/Python/3.10/lib/python/site-packages (from IPython->-r requirements.txt (line 2)) (4.8.0)\n",
      "Requirement already satisfied: prompt-toolkit!=3.0.0,!=3.0.1,<3.1.0,>=2.0.0 in /Users/nick/Library/Python/3.10/lib/python/site-packages (from IPython->-r requirements.txt (line 2)) (3.0.31)\n",
      "Requirement already satisfied: traitlets>=5 in /Users/nick/Library/Python/3.10/lib/python/site-packages (from IPython->-r requirements.txt (line 2)) (5.3.0)\n",
      "Requirement already satisfied: jedi>=0.16 in /Users/nick/Library/Python/3.10/lib/python/site-packages (from IPython->-r requirements.txt (line 2)) (0.18.1)\n",
      "Requirement already satisfied: matplotlib-inline in /Users/nick/Library/Python/3.10/lib/python/site-packages (from IPython->-r requirements.txt (line 2)) (0.1.6)\n",
      "Requirement already satisfied: packaging>=20.0 in /Users/nick/Library/Python/3.10/lib/python/site-packages (from matplotlib->-r requirements.txt (line 3)) (21.3)\n",
      "Requirement already satisfied: python-dateutil>=2.7 in /Users/nick/Library/Python/3.10/lib/python/site-packages (from matplotlib->-r requirements.txt (line 3)) (2.8.2)\n",
      "Requirement already satisfied: cycler>=0.10 in /opt/homebrew/lib/python3.10/site-packages (from matplotlib->-r requirements.txt (line 3)) (0.11.0)\n",
      "Requirement already satisfied: numpy>=1.17 in /opt/homebrew/lib/python3.10/site-packages (from matplotlib->-r requirements.txt (line 3)) (1.23.2)\n",
      "Requirement already satisfied: fonttools>=4.22.0 in /opt/homebrew/lib/python3.10/site-packages (from matplotlib->-r requirements.txt (line 3)) (4.37.1)\n",
      "Requirement already satisfied: pillow>=6.2.0 in /opt/homebrew/lib/python3.10/site-packages (from matplotlib->-r requirements.txt (line 3)) (9.2.0)\n",
      "Requirement already satisfied: kiwisolver>=1.0.1 in /opt/homebrew/lib/python3.10/site-packages (from matplotlib->-r requirements.txt (line 3)) (1.4.4)\n",
      "Requirement already satisfied: pyparsing>=2.2.1 in /Users/nick/Library/Python/3.10/lib/python/site-packages (from matplotlib->-r requirements.txt (line 3)) (3.0.9)\n",
      "Requirement already satisfied: certifi>=2017.4.17 in /opt/homebrew/lib/python3.10/site-packages (from requests->-r requirements.txt (line 6)) (2022.6.15)\n",
      "Requirement already satisfied: charset-normalizer<3,>=2 in /opt/homebrew/lib/python3.10/site-packages (from requests->-r requirements.txt (line 6)) (2.1.1)\n",
      "Requirement already satisfied: urllib3<1.27,>=1.21.1 in /opt/homebrew/lib/python3.10/site-packages (from requests->-r requirements.txt (line 6)) (1.26.12)\n",
      "Requirement already satisfied: idna<4,>=2.5 in /opt/homebrew/lib/python3.10/site-packages (from requests->-r requirements.txt (line 6)) (3.3)\n",
      "Requirement already satisfied: parso<0.9.0,>=0.8.0 in /Users/nick/Library/Python/3.10/lib/python/site-packages (from jedi>=0.16->IPython->-r requirements.txt (line 2)) (0.8.3)\n",
      "Requirement already satisfied: ptyprocess>=0.5 in /Users/nick/Library/Python/3.10/lib/python/site-packages (from pexpect>4.3->IPython->-r requirements.txt (line 2)) (0.7.0)\n",
      "Requirement already satisfied: wcwidth in /Users/nick/Library/Python/3.10/lib/python/site-packages (from prompt-toolkit!=3.0.0,!=3.0.1,<3.1.0,>=2.0.0->IPython->-r requirements.txt (line 2)) (0.2.5)\n",
      "Requirement already satisfied: six>=1.5 in /opt/homebrew/lib/python3.10/site-packages (from python-dateutil>=2.7->matplotlib->-r requirements.txt (line 3)) (1.16.0)\n",
      "Requirement already satisfied: pure-eval in /Users/nick/Library/Python/3.10/lib/python/site-packages (from stack-data->IPython->-r requirements.txt (line 2)) (0.2.2)\n",
      "Requirement already satisfied: asttokens in /Users/nick/Library/Python/3.10/lib/python/site-packages (from stack-data->IPython->-r requirements.txt (line 2)) (2.0.8)\n",
      "Requirement already satisfied: executing in /Users/nick/Library/Python/3.10/lib/python/site-packages (from stack-data->IPython->-r requirements.txt (line 2)) (1.0.0)\n",
      "Installing collected packages: python-dotenv\n",
      "Successfully installed python-dotenv-0.21.0\n"
     ]
    }
   ],
   "source": [
    "import sys\n",
    "!{sys.executable} -m pip install -r requirements.txt\n",
    "\n",
    "import os\n",
    "import json\n",
    "import requests\n",
    "from requests.auth import HTTPBasicAuth\n",
    "from dotenv import load_dotenv\n",
    "import pandas as pd\n",
    "import matplotlib.pyplot as plt\n",
    "from datetime import date\n",
    "from IPython.display import display, Markdown\n",
    "%matplotlib inline"
   ]
  },
  {
   "cell_type": "code",
   "execution_count": 27,
   "id": "52136c1b",
   "metadata": {},
   "outputs": [
    {
     "name": "stdout",
     "output_type": "stream",
     "text": [
      "eyJ0eXAiOiJKV1QiLCJhbGciOiJIUzI1NiJ9.IjhlYjZiZTBlZWEwOWE5ZTM0ZTYxZmMzOTA2ZjdjNGM1MGExMWI3MzEi.w982vLUPdpimspl7ZlFzMzmK3aU29kb3ZkkNYyksenk\n",
      "engrxiv\n",
      "engrxiv\n",
      "{\"itemsMax\":2150,\"items\":[{\"_href\":\"https:\\/\\/engrxiv.sfulib4.publicknowledgeproject.org\\/api\\/v1\\/submissions\\/2157\",\"contextId\":1,\"currentPublicationId\":3223,\"dateLastActivity\":\"2022-02-26 16:50:21\",\"dateSubmitted\":\"2022-02-26 16:50:20\",\"doiSuffix\":null,\"id\":2157,\"lastModified\":\"2022-02-26 16:50:20\",\"locale\":\"en_US\",\"pub-id::doi\":null,\"publications\":[{\"_href\":\"https:\\/\\/engrxiv.sfulib4.publicknowledgeproject.org\\/api\\/v1\\/submissions\\/2157\\/publications\\/3223\",\"authorsString\":\"D B, Dan Smith\",\"authorsStringShort\":\"B et al.\",\"categoryIds\":[],\"coverImage\":{\"en_US\":null},\"datePublished\":null,\"doiSuffix\":null,\"fullTitle\":{\"en_US\":\"TEst\"},\"galleys\":[{\"doiSuffix\":null,\"id\":4262,\"isApproved\":false,\"label\":\"PDF\",\"locale\":\"en_US\",\"pub-id::doi\":null,\"pub-id::publisher-id\":null,\"publicationId\":3223,\"seq\":0,\"submissionFileId\":3207,\"urlPublished\":\"https:\\/\\/engrxiv.sfulib4.publicknowledgeproject.org\\/preprint\\/view\\/2157\\/version\\/3223\\/4262\",\"urlRemote\":\"\"}],\"id\":3223,\"locale\":\"en_US\",\"prefix\":{\"en_US\":\"\"},\"primaryContactId\":9240,\"pub-id::doi\":null,\"pub-id::publisher-id\":null,\"relationStatus\":null,\"sectionId\":1,\"status\":1,\"submissionId\":2157,\"subtitle\":{\"en_US\":\"\"},\"title\":{\"en_US\":\"TEst\"},\"urlPublished\":\"https:\\/\\/engrxiv.sfulib4.publicknowledgeproject.org\\/preprint\\/view\\/2157\\/version\\/3223\",\"version\":1,\"vorDoi\":null}],\"stageId\":5,\"status\":1,\"statusLabel\":\"Queued\",\"submissionProgress\":0,\"urlAuthorWorkflow\":\"https:\\/\\/engrxiv.sfulib4.publicknowledgeproject.org\\/authorDashboard\\/submission\\/2157\",\"urlEditorialWorkflow\":\"https:\\/\\/engrxiv.sfulib4.publicknowledgeproject.org\\/workflow\\/access\\/2157\",\"urlPublished\":\"https:\\/\\/engrxiv.sfulib4.publicknowledgeproject.org\\/preprint\\/view\\/2157\",\"urlWorkflow\":\"https:\\/\\/engrxiv.sfulib4.publicknowledgeproject.org\\/workflow\\/access\\/2157\"},{\"_href\":\"https:\\/\\/engrxiv.sfulib4.publicknowledgeproject.org\\/api\\/v1\\/submissions\\/2135\",\"contextId\":1,\"currentPublicationId\":3198,\"dateLastActivity\":\"2022-02-08 11:33:45\",\"dateSubmitted\":\"2022-02-08 07:13:02\",\"doiSuffix\":null,\"id\":2135,\"lastModified\":\"2022-02-08 07:13:02\",\"locale\":\"en_US\",\"pub-id::doi\":null,\"publications\":[{\"_href\":\"https:\\/\\/engrxiv.sfulib4.publicknowledgeproject.org\\/api\\/v1\\/submissions\\/2135\\/publications\\/3198\",\"authorsString\":\"Ayngaran Adalarasu\",\"authorsStringShort\":\"Adalarasu\",\"categoryIds\":[],\"coverImage\":{\"en_US\":null},\"datePublished\":\"2022-02-08\",\"doiSuffix\":null,\"fullTitle\":{\"en_US\":\"Audible Light: An experiment to transmit sound via light using the Small Signal Trick\"},\"galleys\":[{\"doiSuffix\":null,\"id\":4238,\"isApproved\":false,\"label\":\"PDF\",\"locale\":\"en_US\",\"pub-id::doi\":null,\"pub-id::publisher-id\":null,\"publicationId\":3198,\"seq\":0,\"submissionFileId\":3184,\"urlPublished\":\"https:\\/\\/engrxiv.sfulib4.publicknowledgeproject.org\\/preprint\\/view\\/2135\\/version\\/3198\\/4238\",\"urlRemote\":\"\"}],\"id\":3198,\"locale\":\"en_US\",\"prefix\":{\"en_US\":\"\"},\"primaryContactId\":9194,\"pub-id::doi\":\"10.31224\\/2135\",\"pub-id::publisher-id\":null,\"relationStatus\":null,\"sectionId\":1,\"status\":3,\"submissionId\":2135,\"subtitle\":{\"en_US\":\"An experiment to transmit sound via light using the Small Signal Trick\"},\"title\":{\"en_US\":\"Audible Light\"},\"urlPublished\":\"https:\\/\\/engrxiv.sfulib4.publicknowledgeproject.org\\/preprint\\/view\\/2135\\/version\\/3198\",\"version\":1,\"vorDoi\":null}],\"stageId\":5,\"status\":3,\"statusLabel\":\"Published\",\"submissionProgress\":0,\"urlAuthorWorkflow\":\"https:\\/\\/engrxiv.sfulib4.publicknowledgeproject.org\\/authorDashboard\\/submission\\/2135\",\"urlEditorialWorkflow\":\"https:\\/\\/engrxiv.sfulib4.publicknowledgeproject.org\\/workflow\\/access\\/2135\",\"urlPublished\":\"https:\\/\\/engrxiv.sfulib4.publicknowledgeproject.org\\/preprint\\/view\\/2135\",\"urlWorkflow\":\"https:\\/\\/engrxiv.sfulib4.publicknowledgeproject.org\\/workflow\\/access\\/2135\"},{\"_href\":\"https:\\/\\/engrxiv.sfulib4.publicknowledgeproject.org\\/api\\/v1\\/submissions\\/2131\",\"contextId\":1,\"currentPublicationId\":3194,\"dateLastActivity\":\"2022-02-08 11:31:19\",\"dateSubmitted\":\"2022-02-07 18:22:27\",\"doiSuffix\":null,\"id\":2131,\"lastModified\":\"2022-02-07 18:22:27\",\"locale\":\"en_US\",\"pub-id::doi\":null,\"publications\":[{\"_href\":\"https:\\/\\/engrxiv.sfulib4.publicknowledgeproject.org\\/api\\/v1\\/submissions\\/2131\\/publications\\/3194\",\"authorsString\":\"Saumik Dana\",\"authorsStringShort\":\"Dana\",\"categoryIds\":[],\"coverImage\":{\"en_US\":null},\"datePublished\":\"2022-02-08\",\"doiSuffix\":null,\"fullTitle\":{\"en_US\":\"Deep learning based reduced order modeling of seismogram-type acceleration time series model: Part - II\"},\"galleys\":[{\"doiSuffix\":null,\"id\":4236,\"isApproved\":false,\"label\":\"PDF\",\"locale\":\"en_US\",\"pub-id::doi\":null,\"pub-id::publisher-id\":null,\"publicationId\":3194,\"seq\":0,\"submissionFileId\":3182,\"urlPublished\":\"https:\\/\\/engrxiv.sfulib4.publicknowledgeproject.org\\/preprint\\/view\\/2131\\/version\\/3194\\/4236\",\"urlRemote\":\"\"}],\"id\":3194,\"locale\":\"en_US\",\"prefix\":{\"en_US\":\"\"},\"primaryContactId\":9190,\"pub-id::doi\":\"10.31224\\/2131\",\"pub-id::publisher-id\":null,\"relationStatus\":null,\"sectionId\":1,\"status\":3,\"submissionId\":2131,\"subtitle\":{\"en_US\":\"\"},\"title\":{\"en_US\":\"Deep learning based reduced order modeling of seismogram-type acceleration time series model: Part - II\"},\"urlPublished\":\"https:\\/\\/engrxiv.sfulib4.publicknowledgeproject.org\\/preprint\\/view\\/2131\\/version\\/3194\",\"version\":1,\"vorDoi\":null}],\"stageId\":5,\"status\":3,\"statusLabel\":\"Published\",\"submissionProgress\":0,\"urlAuthorWorkflow\":\"https:\\/\\/engrxiv.sfulib4.publicknowledgeproject.org\\/authorDashboard\\/submission\\/2131\",\"urlEditorialWorkflow\":\"https:\\/\\/engrxiv.sfulib4.publicknowledgeproject.org\\/workflow\\/access\\/2131\",\"urlPublished\":\"https:\\/\\/engrxiv.sfulib4.publicknowledgeproject.org\\/preprint\\/view\\/2131\",\"urlWorkflow\":\"https:\\/\\/engrxiv.sfulib4.publicknowledgeproject.org\\/workflow\\/access\\/2131\"},{\"_href\":\"https:\\/\\/engrxiv.sfulib4.publicknowledgeproject.org\\/api\\/v1\\/submissions\\/2130\",\"contextId\":1,\"currentPublicationId\":3193,\"dateLastActivity\":\"2022-02-07 13:13:32\",\"dateSubmitted\":\"2022-02-07 12:46:12\",\"doiSuffix\":null,\"id\":2130,\"lastModified\":\"2022-02-07 12:46:12\",\"locale\":\"en_US\",\"pub-id::doi\":null,\"publications\":[{\"_href\":\"https:\\/\\/engrxiv.sfulib4.publicknowledgeproject.org\\/api\\/v1\\/submissions\\/2130\\/publications\\/3193\",\"authorsString\":\"Rhodri Owen, James Robinson, Julia Weaving, Martin  Pham, Thomas Tranter, Tobias Neville, Duncan Billson, Michele Braglia, Richard Stocker, Annika Ahlberg Tidblad, Paul Shearling, Dan Brett\",\"authorsStringShort\":\"Owen et al.\",\"categoryIds\":[],\"coverImage\":{\"en_US\":null},\"datePublished\":\"2022-02-07\",\"doiSuffix\":null,\"fullTitle\":{\"en_US\":\"Operando Ultrasonic Monitoring of Lithium-Ion Battery Temperature and Behaviour at Different Cycling Rates and under Drive Cycle Conditions\"},\"galleys\":[{\"doiSuffix\":null,\"id\":4233,\"isApproved\":false,\"label\":\"PDF\",\"locale\":\"en_US\",\"pub-id::doi\":null,\"pub-id::publisher-id\":null,\"publicationId\":3193,\"seq\":0,\"submissionFileId\":3179,\"urlPublished\":\"https:\\/\\/engrxiv.sfulib4.publicknowledgeproject.org\\/preprint\\/view\\/2130\\/version\\/3193\\/4233\",\"urlRemote\":\"\"},{\"doiSuffix\":null,\"id\":4235,\"isApproved\":false,\"label\":\"Supplementary Material\",\"locale\":\"en_US\",\"pub-id::doi\":null,\"pub-id::publisher-id\":null,\"publicationId\":3193,\"seq\":0,\"submissionFileId\":3181,\"urlPublished\":\"https:\\/\\/engrxiv.sfulib4.publicknowledgeproject.org\\/preprint\\/view\\/2130\\/version\\/3193\\/4235\",\"urlRemote\":\"\"}],\"id\":3193,\"locale\":\"en_US\",\"prefix\":{\"en_US\":\"\"},\"primaryContactId\":9177,\"pub-id::doi\":\"10.31224\\/2130\",\"pub-id::publisher-id\":null,\"relationStatus\":null,\"sectionId\":1,\"status\":3,\"submissionId\":2130,\"subtitle\":{\"en_US\":\"\"},\"title\":{\"en_US\":\"Operando Ultrasonic Monitoring of Lithium-Ion Battery Temperature and Behaviour at Different Cycling Rates and under Drive Cycle Conditions\"},\"urlPublished\":\"https:\\/\\/engrxiv.sfulib4.publicknowledgeproject.org\\/preprint\\/view\\/2130\\/version\\/3193\",\"version\":1,\"vorDoi\":null}],\"stageId\":5,\"status\":3,\"statusLabel\":\"Published\",\"submissionProgress\":0,\"urlAuthorWorkflow\":\"https:\\/\\/engrxiv.sfulib4.publicknowledgeproject.org\\/authorDashboard\\/submission\\/2130\",\"urlEditorialWorkflow\":\"https:\\/\\/engrxiv.sfulib4.publicknowledgeproject.org\\/workflow\\/access\\/2130\",\"urlPublished\":\"https:\\/\\/engrxiv.sfulib4.publicknowledgeproject.org\\/preprint\\/view\\/2130\",\"urlWorkflow\":\"https:\\/\\/engrxiv.sfulib4.publicknowledgeproject.org\\/workflow\\/access\\/2130\"},{\"_href\":\"https:\\/\\/engrxiv.sfulib4.publicknowledgeproject.org\\/api\\/v1\\/submissions\\/2129\",\"contextId\":1,\"currentPublicationId\":3192,\"dateLastActivity\":\"2022-02-07 12:05:14\",\"dateSubmitted\":\"2022-02-07 10:10:21\",\"doiSuffix\":null,\"id\":2129,\"lastModified\":\"2022-02-07 10:10:21\",\"locale\":\"en_US\",\"pub-id::doi\":null,\"publications\":[{\"_href\":\"https:\\/\\/engrxiv.sfulib4.publicknowledgeproject.org\\/api\\/v1\\/submissions\\/2129\\/publications\\/3192\",\"authorsString\":\"Briliant Prabowo\",\"authorsStringShort\":\"Prabowo\",\"categoryIds\":[],\"coverImage\":{\"en_US\":null},\"datePublished\":\"2022-02-07\",\"doiSuffix\":null,\"fullTitle\":{\"en_US\":\"Au-spotted Zinc oxide nano-hexagonrods structure for plasmon-photoluminescence sensor\"},\"galleys\":[{\"doiSuffix\":null,\"id\":4231,\"isApproved\":false,\"label\":\"PDF\",\"locale\":\"en_US\",\"pub-id::doi\":null,\"pub-id::publisher-id\":null,\"publicationId\":3192,\"seq\":0,\"submissionFileId\":3177,\"urlPublished\":\"https:\\/\\/engrxiv.sfulib4.publicknowledgeproject.org\\/preprint\\/view\\/2129\\/version\\/3192\\/4231\",\"urlRemote\":\"\"}],\"id\":3192,\"locale\":\"en_US\",\"prefix\":{\"en_US\":\"\"},\"primaryContactId\":9176,\"pub-id::doi\":\"10.31224\\/2129\",\"pub-id::publisher-id\":null,\"relationStatus\":3,\"sectionId\":1,\"status\":3,\"submissionId\":2129,\"subtitle\":{\"en_US\":\"\"},\"title\":{\"en_US\":\"Au-spotted Zinc oxide nano-hexagonrods structure for plasmon-photoluminescence sensor\"},\"urlPublished\":\"https:\\/\\/engrxiv.sfulib4.publicknowledgeproject.org\\/preprint\\/view\\/2129\\/version\\/3192\",\"version\":1,\"vorDoi\":\"https:\\/\\/doi.org\\/10.1016\\/j.snb.2019.03.020\"}],\"stageId\":5,\"status\":3,\"statusLabel\":\"Published\",\"submissionProgress\":0,\"urlAuthorWorkflow\":\"https:\\/\\/engrxiv.sfulib4.publicknowledgeproject.org\\/authorDashboard\\/submission\\/2129\",\"urlEditorialWorkflow\":\"https:\\/\\/engrxiv.sfulib4.publicknowledgeproject.org\\/workflow\\/access\\/2129\",\"urlPublished\":\"https:\\/\\/engrxiv.sfulib4.publicknowledgeproject.org\\/preprint\\/view\\/2129\",\"urlWorkflow\":\"https:\\/\\/engrxiv.sfulib4.publicknowledgeproject.org\\/workflow\\/access\\/2129\"},{\"_href\":\"https:\\/\\/engrxiv.sfulib4.publicknowledgeproject.org\\/api\\/v1\\/submissions\\/2127\",\"contextId\":1,\"currentPublicationId\":3190,\"dateLastActivity\":\"2022-02-06 18:26:01\",\"dateSubmitted\":\"2022-02-06 10:13:38\",\"doiSuffix\":null,\"id\":2127,\"lastModified\":\"2022-02-06 10:13:38\",\"locale\":\"en_US\",\"pub-id::doi\":null,\"publications\":[{\"_href\":\"https:\\/\\/engrxiv.sfulib4.publicknowledgeproject.org\\/api\\/v1\\/submissions\\/2127\\/publications\\/3190\",\"authorsString\":\"Mohamad Hallal, Brady Cox, Sebastiano Foti, Adrian Rodriguez-Marek, Ellen Rathje\",\"authorsStringShort\":\"Hallal et al.\",\"categoryIds\":[],\"coverImage\":{\"en_US\":null},\"datePublished\":\"2022-02-06\",\"doiSuffix\":null,\"fullTitle\":{\"en_US\":\"Improved implementation of travel time randomization for incorporating Vs uncertainty in seismic ground response\"},\"galleys\":[{\"doiSuffix\":null,\"id\":4229,\"isApproved\":false,\"label\":\"PDF\",\"locale\":\"en_US\",\"pub-id::doi\":null,\"pub-id::publisher-id\":null,\"publicationId\":3190,\"seq\":0,\"submissionFileId\":3175,\"urlPublished\":\"https:\\/\\/engrxiv.sfulib4.publicknowledgeproject.org\\/preprint\\/view\\/2127\\/version\\/3190\\/4229\",\"urlRemote\":\"\"}],\"id\":3190,\"locale\":\"en_US\",\"prefix\":{\"en_US\":\"\"},\"primaryContactId\":9170,\"pub-id::doi\":\"10.31224\\/2127\",\"pub-id::publisher-id\":null,\"relationStatus\":null,\"sectionId\":1,\"status\":3,\"submissionId\":2127,\"subtitle\":{\"en_US\":\"\"},\"title\":{\"en_US\":\"Improved implementation of travel time randomization for incorporating Vs uncertainty in seismic ground response\"},\"urlPublished\":\"https:\\/\\/engrxiv.sfulib4.publicknowledgeproject.org\\/preprint\\/view\\/2127\\/version\\/3190\",\"version\":1,\"vorDoi\":null}],\"stageId\":5,\"status\":3,\"statusLabel\":\"Published\",\"submissionProgress\":0,\"urlAuthorWorkflow\":\"https:\\/\\/engrxiv.sfulib4.publicknowledgeproject.org\\/authorDashboard\\/submission\\/2127\",\"urlEditorialWorkflow\":\"https:\\/\\/engrxiv.sfulib4.publicknowledgeproject.org\\/workflow\\/access\\/2127\",\"urlPublished\":\"https:\\/\\/engrxiv.sfulib4.publicknowledgeproject.org\\/preprint\\/view\\/2127\",\"urlWorkflow\":\"https:\\/\\/engrxiv.sfulib4.publicknowledgeproject.org\\/workflow\\/access\\/2127\"},{\"_href\":\"https:\\/\\/engrxiv.sfulib4.publicknowledgeproject.org\\/api\\/v1\\/submissions\\/2128\",\"contextId\":1,\"currentPublicationId\":3191,\"dateLastActivity\":\"2022-02-06 18:23:55\",\"dateSubmitted\":\"2022-02-06 02:35:13\",\"doiSuffix\":null,\"id\":2128,\"lastModified\":\"2022-02-06 02:35:13\",\"locale\":\"en_US\",\"pub-id::doi\":null,\"publications\":[{\"_href\":\"https:\\/\\/engrxiv.sfulib4.publicknowledgeproject.org\\/api\\/v1\\/submissions\\/2128\\/publications\\/3191\",\"authorsString\":\"Shuvodeep De\",\"authorsStringShort\":\"De\",\"categoryIds\":[],\"coverImage\":{\"en_US\":null},\"datePublished\":\"2022-02-06\",\"doiSuffix\":null,\"fullTitle\":{\"en_US\":\"Finite Element Methods for Modern Engineering Applications\"},\"galleys\":[{\"doiSuffix\":null,\"id\":4230,\"isApproved\":false,\"label\":\"PDF\",\"locale\":\"en_US\",\"pub-id::doi\":null,\"pub-id::publisher-id\":null,\"publicationId\":3191,\"seq\":0,\"submissionFileId\":3176,\"urlPublished\":\"https:\\/\\/engrxiv.sfulib4.publicknowledgeproject.org\\/preprint\\/view\\/2128\\/version\\/3191\\/4230\",\"urlRemote\":\"\"}],\"id\":3191,\"locale\":\"en_US\",\"prefix\":{\"en_US\":\"\"},\"primaryContactId\":9171,\"pub-id::doi\":\"10.31224\\/2128\",\"pub-id::publisher-id\":null,\"relationStatus\":null,\"sectionId\":1,\"status\":3,\"submissionId\":2128,\"subtitle\":{\"en_US\":\"\"},\"title\":{\"en_US\":\"Finite Element Methods for Modern Engineering Applications\"},\"urlPublished\":\"https:\\/\\/engrxiv.sfulib4.publicknowledgeproject.org\\/preprint\\/view\\/2128\\/version\\/3191\",\"version\":1,\"vorDoi\":null}],\"stageId\":5,\"status\":3,\"statusLabel\":\"Published\",\"submissionProgress\":0,\"urlAuthorWorkflow\":\"https:\\/\\/engrxiv.sfulib4.publicknowledgeproject.org\\/authorDashboard\\/submission\\/2128\",\"urlEditorialWorkflow\":\"https:\\/\\/engrxiv.sfulib4.publicknowledgeproject.org\\/workflow\\/access\\/2128\",\"urlPublished\":\"https:\\/\\/engrxiv.sfulib4.publicknowledgeproject.org\\/preprint\\/view\\/2128\",\"urlWorkflow\":\"https:\\/\\/engrxiv.sfulib4.publicknowledgeproject.org\\/workflow\\/access\\/2128\"},{\"_href\":\"https:\\/\\/engrxiv.sfulib4.publicknowledgeproject.org\\/api\\/v1\\/submissions\\/2126\",\"contextId\":1,\"currentPublicationId\":3189,\"dateLastActivity\":\"2022-02-06 18:21:02\",\"dateSubmitted\":\"2022-02-05 15:23:58\",\"doiSuffix\":null,\"id\":2126,\"lastModified\":\"2022-02-05 15:23:58\",\"locale\":\"en_US\",\"pub-id::doi\":null,\"publications\":[{\"_href\":\"https:\\/\\/engrxiv.sfulib4.publicknowledgeproject.org\\/api\\/v1\\/submissions\\/2126\\/publications\\/3189\",\"authorsString\":\"Shuvodeep De\",\"authorsStringShort\":\"De\",\"categoryIds\":[],\"coverImage\":{\"en_US\":null},\"datePublished\":\"2022-02-06\",\"doiSuffix\":null,\"fullTitle\":{\"en_US\":\"Manual of EBF3GLWingOpt\"},\"galleys\":[{\"doiSuffix\":null,\"id\":4228,\"isApproved\":false,\"label\":\"PDF\",\"locale\":\"en_US\",\"pub-id::doi\":null,\"pub-id::publisher-id\":null,\"publicationId\":3189,\"seq\":0,\"submissionFileId\":3174,\"urlPublished\":\"https:\\/\\/engrxiv.sfulib4.publicknowledgeproject.org\\/preprint\\/view\\/2126\\/version\\/3189\\/4228\",\"urlRemote\":\"\"}],\"id\":3189,\"locale\":\"en_US\",\"prefix\":{\"en_US\":\"\"},\"primaryContactId\":9169,\"pub-id::doi\":\"10.31224\\/2126\",\"pub-id::publisher-id\":null,\"relationStatus\":null,\"sectionId\":1,\"status\":3,\"submissionId\":2126,\"subtitle\":{\"en_US\":\"\"},\"title\":{\"en_US\":\"Manual of EBF3GLWingOpt\"},\"urlPublished\":\"https:\\/\\/engrxiv.sfulib4.publicknowledgeproject.org\\/preprint\\/view\\/2126\\/version\\/3189\",\"version\":1,\"vorDoi\":null}],\"stageId\":5,\"status\":3,\"statusLabel\":\"Published\",\"submissionProgress\":0,\"urlAuthorWorkflow\":\"https:\\/\\/engrxiv.sfulib4.publicknowledgeproject.org\\/authorDashboard\\/submission\\/2126\",\"urlEditorialWorkflow\":\"https:\\/\\/engrxiv.sfulib4.publicknowledgeproject.org\\/workflow\\/access\\/2126\",\"urlPublished\":\"https:\\/\\/engrxiv.sfulib4.publicknowledgeproject.org\\/preprint\\/view\\/2126\",\"urlWorkflow\":\"https:\\/\\/engrxiv.sfulib4.publicknowledgeproject.org\\/workflow\\/access\\/2126\"},{\"_href\":\"https:\\/\\/engrxiv.sfulib4.publicknowledgeproject.org\\/api\\/v1\\/submissions\\/2125\",\"contextId\":1,\"currentPublicationId\":3187,\"dateLastActivity\":\"2022-02-04 18:48:46\",\"dateSubmitted\":\"2022-02-04 18:20:10\",\"doiSuffix\":null,\"id\":2125,\"lastModified\":\"2022-02-04 18:20:10\",\"locale\":\"en_US\",\"pub-id::doi\":null,\"publications\":[{\"_href\":\"https:\\/\\/engrxiv.sfulib4.publicknowledgeproject.org\\/api\\/v1\\/submissions\\/2125\\/publications\\/3187\",\"authorsString\":\"Saumik Dana\",\"authorsStringShort\":\"Dana\",\"categoryIds\":[],\"coverImage\":{\"en_US\":null},\"datePublished\":\"2022-02-04\",\"doiSuffix\":null,\"fullTitle\":{\"en_US\":\"Deep learning based reduced order modeling of seismogram-type acceleration time series model: Part - I: Deep learning based reduced order modeling\"},\"galleys\":[{\"doiSuffix\":null,\"id\":4226,\"isApproved\":false,\"label\":\"PDF\",\"locale\":\"en_US\",\"pub-id::doi\":null,\"pub-id::publisher-id\":null,\"publicationId\":3187,\"seq\":0,\"submissionFileId\":3173,\"urlPublished\":\"https:\\/\\/engrxiv.sfulib4.publicknowledgeproject.org\\/preprint\\/view\\/2125\\/version\\/3187\\/4226\",\"urlRemote\":\"\"}],\"id\":3187,\"locale\":\"en_US\",\"prefix\":{\"en_US\":\"\"},\"primaryContactId\":9167,\"pub-id::doi\":\"10.31224\\/2125\",\"pub-id::publisher-id\":null,\"relationStatus\":null,\"sectionId\":1,\"status\":3,\"submissionId\":2125,\"subtitle\":{\"en_US\":\"Deep learning based reduced order modeling\"},\"title\":{\"en_US\":\"Deep learning based reduced order modeling of seismogram-type acceleration time series model: Part - I\"},\"urlPublished\":\"https:\\/\\/engrxiv.sfulib4.publicknowledgeproject.org\\/preprint\\/view\\/2125\\/version\\/3187\",\"version\":1,\"vorDoi\":null}],\"stageId\":5,\"status\":3,\"statusLabel\":\"Published\",\"submissionProgress\":0,\"urlAuthorWorkflow\":\"https:\\/\\/engrxiv.sfulib4.publicknowledgeproject.org\\/authorDashboard\\/submission\\/2125\",\"urlEditorialWorkflow\":\"https:\\/\\/engrxiv.sfulib4.publicknowledgeproject.org\\/workflow\\/access\\/2125\",\"urlPublished\":\"https:\\/\\/engrxiv.sfulib4.publicknowledgeproject.org\\/preprint\\/view\\/2125\",\"urlWorkflow\":\"https:\\/\\/engrxiv.sfulib4.publicknowledgeproject.org\\/workflow\\/access\\/2125\"},{\"_href\":\"https:\\/\\/engrxiv.sfulib4.publicknowledgeproject.org\\/api\\/v1\\/submissions\\/2124\",\"contextId\":1,\"currentPublicationId\":3186,\"dateLastActivity\":\"2022-02-04 18:24:51\",\"dateSubmitted\":\"2022-02-04 18:00:09\",\"doiSuffix\":null,\"id\":2124,\"lastModified\":\"2022-02-04 18:00:09\",\"locale\":\"en_US\",\"pub-id::doi\":null,\"publications\":[{\"_href\":\"https:\\/\\/engrxiv.sfulib4.publicknowledgeproject.org\\/api\\/v1\\/submissions\\/2124\\/publications\\/3186\",\"authorsString\":\"Devin Berg, Anne Schmitz\",\"authorsStringShort\":\"Berg et al.\",\"categoryIds\":[],\"coverImage\":{\"en_US\":null},\"datePublished\":\"2022-02-04\",\"doiSuffix\":null,\"fullTitle\":{\"en_US\":\"Work-in-Progress: Polytechnic Perceptions of the Engineering Classroom Experience\"},\"galleys\":[{\"doiSuffix\":null,\"id\":4225,\"isApproved\":false,\"label\":\"PDF\",\"locale\":\"en_US\",\"pub-id::doi\":null,\"pub-id::publisher-id\":null,\"publicationId\":3186,\"seq\":0,\"submissionFileId\":3172,\"urlPublished\":\"https:\\/\\/engrxiv.sfulib4.publicknowledgeproject.org\\/preprint\\/view\\/2124\\/version\\/3186\\/4225\",\"urlRemote\":\"\"}],\"id\":3186,\"locale\":\"en_US\",\"prefix\":{\"en_US\":\"\"},\"primaryContactId\":9165,\"pub-id::doi\":\"10.31224\\/2124\",\"pub-id::publisher-id\":null,\"relationStatus\":null,\"sectionId\":1,\"status\":3,\"submissionId\":2124,\"subtitle\":{\"en_US\":\"\"},\"title\":{\"en_US\":\"Work-in-Progress: Polytechnic Perceptions of the Engineering Classroom Experience\"},\"urlPublished\":\"https:\\/\\/engrxiv.sfulib4.publicknowledgeproject.org\\/preprint\\/view\\/2124\\/version\\/3186\",\"version\":1,\"vorDoi\":null}],\"stageId\":5,\"status\":3,\"statusLabel\":\"Published\",\"submissionProgress\":0,\"urlAuthorWorkflow\":\"https:\\/\\/engrxiv.sfulib4.publicknowledgeproject.org\\/authorDashboard\\/submission\\/2124\",\"urlEditorialWorkflow\":\"https:\\/\\/engrxiv.sfulib4.publicknowledgeproject.org\\/workflow\\/access\\/2124\",\"urlPublished\":\"https:\\/\\/engrxiv.sfulib4.publicknowledgeproject.org\\/preprint\\/view\\/2124\",\"urlWorkflow\":\"https:\\/\\/engrxiv.sfulib4.publicknowledgeproject.org\\/workflow\\/access\\/2124\"},{\"_href\":\"https:\\/\\/engrxiv.sfulib4.publicknowledgeproject.org\\/api\\/v1\\/submissions\\/2123\",\"contextId\":1,\"currentPublicationId\":3185,\"dateLastActivity\":\"2022-02-04 19:30:33\",\"dateSubmitted\":\"2022-02-04 14:46:41\",\"doiSuffix\":null,\"id\":2123,\"lastModified\":\"2022-02-04 14:46:41\",\"locale\":\"en_US\",\"pub-id::doi\":null,\"publications\":[{\"_href\":\"https:\\/\\/engrxiv.sfulib4.publicknowledgeproject.org\\/api\\/v1\\/submissions\\/2123\\/publications\\/3185\",\"authorsString\":\"Mahsa Yazdani\",\"authorsStringShort\":\"Yazdani\",\"categoryIds\":[],\"coverImage\":{\"en_US\":null},\"datePublished\":\"2022-02-04\",\"doiSuffix\":null,\"fullTitle\":{\"en_US\":\"Effects of media and photo bioreactor operating parameters in microalgae Dunaliella Salina, increase in beta-carotene content\"},\"galleys\":[{\"doiSuffix\":null,\"id\":4224,\"isApproved\":false,\"label\":\"PDF\",\"locale\":\"en_US\",\"pub-id::doi\":null,\"pub-id::publisher-id\":null,\"publicationId\":3185,\"seq\":0,\"submissionFileId\":3171,\"urlPublished\":\"https:\\/\\/engrxiv.sfulib4.publicknowledgeproject.org\\/preprint\\/view\\/2123\\/version\\/3185\\/4224\",\"urlRemote\":\"\"}],\"id\":3185,\"locale\":\"en_US\",\"prefix\":{\"en_US\":\"\"},\"primaryContactId\":9164,\"pub-id::doi\":\"10.31224\\/2123\",\"pub-id::publisher-id\":null,\"relationStatus\":null,\"sectionId\":1,\"status\":3,\"submissionId\":2123,\"subtitle\":{\"en_US\":\"\"},\"title\":{\"en_US\":\"Effects of media and photo bioreactor operating parameters in microalgae Dunaliella Salina, increase in beta-carotene content\"},\"urlPublished\":\"https:\\/\\/engrxiv.sfulib4.publicknowledgeproject.org\\/preprint\\/view\\/2123\\/version\\/3185\",\"version\":1,\"vorDoi\":null},{\"_href\":\"https:\\/\\/engrxiv.sfulib4.publicknowledgeproject.org\\/api\\/v1\\/submissions\\/2123\\/publications\\/3188\",\"authorsString\":\"Mahsa Yazdani\",\"authorsStringShort\":\"Yazdani\",\"categoryIds\":[],\"coverImage\":{\"en_US\":null},\"datePublished\":null,\"doiSuffix\":null,\"fullTitle\":{\"en_US\":\"Effects of media and photo bioreactor operating parameters in microalgae Dunaliella Salina, increase in beta-carotene content\"},\"galleys\":[{\"doiSuffix\":null,\"id\":4227,\"isApproved\":false,\"label\":\"PDF\",\"locale\":\"en_US\",\"pub-id::doi\":null,\"pub-id::publisher-id\":null,\"publicationId\":3188,\"seq\":0,\"submissionFileId\":3171,\"urlPublished\":\"https:\\/\\/engrxiv.sfulib4.publicknowledgeproject.org\\/preprint\\/view\\/2123\\/version\\/3188\\/4227\",\"urlRemote\":\"\"}],\"id\":3188,\"locale\":\"en_US\",\"prefix\":{\"en_US\":\"\"},\"primaryContactId\":9168,\"pub-id::doi\":\"10.31224\\/2123\",\"pub-id::publisher-id\":null,\"relationStatus\":null,\"sectionId\":1,\"status\":1,\"submissionId\":2123,\"subtitle\":{\"en_US\":\"\"},\"title\":{\"en_US\":\"Effects of media and photo bioreactor operating parameters in microalgae Dunaliella Salina, increase in beta-carotene content\"},\"urlPublished\":\"https:\\/\\/engrxiv.sfulib4.publicknowledgeproject.org\\/preprint\\/view\\/2123\\/version\\/3188\",\"version\":2,\"vorDoi\":null}],\"stageId\":5,\"status\":3,\"statusLabel\":\"Published\",\"submissionProgress\":0,\"urlAuthorWorkflow\":\"https:\\/\\/engrxiv.sfulib4.publicknowledgeproject.org\\/authorDashboard\\/submission\\/2123\",\"urlEditorialWorkflow\":\"https:\\/\\/engrxiv.sfulib4.publicknowledgeproject.org\\/workflow\\/access\\/2123\",\"urlPublished\":\"https:\\/\\/engrxiv.sfulib4.publicknowledgeproject.org\\/preprint\\/view\\/2123\",\"urlWorkflow\":\"https:\\/\\/engrxiv.sfulib4.publicknowledgeproject.org\\/workflow\\/access\\/2123\"},{\"_href\":\"https:\\/\\/engrxiv.sfulib4.publicknowledgeproject.org\\/api\\/v1\\/submissions\\/2122\",\"contextId\":1,\"currentPublicationId\":3184,\"dateLastActivity\":\"2022-02-03 08:49:47\",\"dateSubmitted\":\"2022-02-03 01:30:27\",\"doiSuffix\":null,\"id\":2122,\"lastModified\":\"2022-02-03 01:30:27\",\"locale\":\"en_US\",\"pub-id::doi\":null,\"publications\":[{\"_href\":\"https:\\/\\/engrxiv.sfulib4.publicknowledgeproject.org\\/api\\/v1\\/submissions\\/2122\\/publications\\/3184\",\"authorsString\":\"Felix Sch\\u00e4fer\",\"authorsStringShort\":\"Sch\\u00e4fer\",\"categoryIds\":[],\"coverImage\":{\"en_US\":null},\"datePublished\":\"2022-02-03\",\"doiSuffix\":null,\"fullTitle\":{\"en_US\":\"Soft-Sensor based Operation of a SOFC System with Anode Exhaust Gas Recirculation\"},\"galleys\":[{\"doiSuffix\":null,\"id\":4223,\"isApproved\":false,\"label\":\"PDF\",\"locale\":\"en_US\",\"pub-id::doi\":null,\"pub-id::publisher-id\":null,\"publicationId\":3184,\"seq\":0,\"submissionFileId\":3169,\"urlPublished\":\"https:\\/\\/engrxiv.sfulib4.publicknowledgeproject.org\\/preprint\\/view\\/2122\\/version\\/3184\\/4223\",\"urlRemote\":\"\"}],\"id\":3184,\"locale\":\"en_US\",\"prefix\":{\"en_US\":\"\"},\"primaryContactId\":9163,\"pub-id::doi\":\"10.31224\\/2122\",\"pub-id::publisher-id\":null,\"relationStatus\":null,\"sectionId\":1,\"status\":3,\"submissionId\":2122,\"subtitle\":{\"en_US\":\"\"},\"title\":{\"en_US\":\"Soft-Sensor based Operation of a SOFC System with Anode Exhaust Gas Recirculation\"},\"urlPublished\":\"https:\\/\\/engrxiv.sfulib4.publicknowledgeproject.org\\/preprint\\/view\\/2122\\/version\\/3184\",\"version\":1,\"vorDoi\":null}],\"stageId\":5,\"status\":3,\"statusLabel\":\"Published\",\"submissionProgress\":0,\"urlAuthorWorkflow\":\"https:\\/\\/engrxiv.sfulib4.publicknowledgeproject.org\\/authorDashboard\\/submission\\/2122\",\"urlEditorialWorkflow\":\"https:\\/\\/engrxiv.sfulib4.publicknowledgeproject.org\\/workflow\\/access\\/2122\",\"urlPublished\":\"https:\\/\\/engrxiv.sfulib4.publicknowledgeproject.org\\/preprint\\/view\\/2122\",\"urlWorkflow\":\"https:\\/\\/engrxiv.sfulib4.publicknowledgeproject.org\\/workflow\\/access\\/2122\"},{\"_href\":\"https:\\/\\/engrxiv.sfulib4.publicknowledgeproject.org\\/api\\/v1\\/submissions\\/2121\",\"contextId\":1,\"currentPublicationId\":3183,\"dateLastActivity\":\"2022-02-02 18:43:27\",\"dateSubmitted\":\"2022-02-02 16:52:45\",\"doiSuffix\":null,\"id\":2121,\"lastModified\":\"2022-02-02 16:52:45\",\"locale\":\"en_US\",\"pub-id::doi\":null,\"publications\":[{\"_href\":\"https:\\/\\/engrxiv.sfulib4.publicknowledgeproject.org\\/api\\/v1\\/submissions\\/2121\\/publications\\/3183\",\"authorsString\":\"Victor Krylov\",\"authorsStringShort\":\"Krylov\",\"categoryIds\":[],\"coverImage\":{\"en_US\":null},\"datePublished\":\"2022-02-02\",\"doiSuffix\":null,\"fullTitle\":{\"en_US\":\"Spatial distributions of railway-generated ground vibrations at and around sleeper passage frequencies\"},\"galleys\":[{\"doiSuffix\":null,\"id\":4222,\"isApproved\":false,\"label\":\"PDF\",\"locale\":\"en_US\",\"pub-id::doi\":null,\"pub-id::publisher-id\":null,\"publicationId\":3183,\"seq\":0,\"submissionFileId\":3168,\"urlPublished\":\"https:\\/\\/engrxiv.sfulib4.publicknowledgeproject.org\\/preprint\\/view\\/2121\\/version\\/3183\\/4222\",\"urlRemote\":\"\"}],\"id\":3183,\"locale\":\"en_US\",\"prefix\":{\"en_US\":\"\"},\"primaryContactId\":9162,\"pub-id::doi\":\"10.31224\\/2121\",\"pub-id::publisher-id\":null,\"relationStatus\":null,\"sectionId\":1,\"status\":3,\"submissionId\":2121,\"subtitle\":{\"en_US\":\"\"},\"title\":{\"en_US\":\"Spatial distributions of railway-generated ground vibrations at and around sleeper passage frequencies\"},\"urlPublished\":\"https:\\/\\/engrxiv.sfulib4.publicknowledgeproject.org\\/preprint\\/view\\/2121\\/version\\/3183\",\"version\":1,\"vorDoi\":null}],\"stageId\":5,\"status\":3,\"statusLabel\":\"Published\",\"submissionProgress\":0,\"urlAuthorWorkflow\":\"https:\\/\\/engrxiv.sfulib4.publicknowledgeproject.org\\/authorDashboard\\/submission\\/2121\",\"urlEditorialWorkflow\":\"https:\\/\\/engrxiv.sfulib4.publicknowledgeproject.org\\/workflow\\/access\\/2121\",\"urlPublished\":\"https:\\/\\/engrxiv.sfulib4.publicknowledgeproject.org\\/preprint\\/view\\/2121\",\"urlWorkflow\":\"https:\\/\\/engrxiv.sfulib4.publicknowledgeproject.org\\/workflow\\/access\\/2121\"},{\"_href\":\"https:\\/\\/engrxiv.sfulib4.publicknowledgeproject.org\\/api\\/v1\\/submissions\\/2119\",\"contextId\":1,\"currentPublicationId\":3179,\"dateLastActivity\":\"2022-01-31 09:50:21\",\"dateSubmitted\":\"2022-01-31 05:03:39\",\"doiSuffix\":null,\"id\":2119,\"lastModified\":\"2022-01-31 05:03:39\",\"locale\":\"en_US\",\"pub-id::doi\":null,\"publications\":[{\"_href\":\"https:\\/\\/engrxiv.sfulib4.publicknowledgeproject.org\\/api\\/v1\\/submissions\\/2119\\/publications\\/3179\",\"authorsString\":\"Omar Alfarisi, Aikifa Raza, TieJun Zhang\",\"authorsStringShort\":\"Alfarisi et al.\",\"categoryIds\":[],\"coverImage\":{\"en_US\":null},\"datePublished\":\"2022-01-31\",\"doiSuffix\":null,\"fullTitle\":{\"en_US\":\"The Discovery of Calcite Intrinsic Wettability by the First-Ever Optical Illumination Inside Dark Fluid using IRIDW Apparatus\"},\"galleys\":[{\"doiSuffix\":null,\"id\":4217,\"isApproved\":false,\"label\":\"PDF\",\"locale\":\"en_US\",\"pub-id::doi\":null,\"pub-id::publisher-id\":null,\"publicationId\":3179,\"seq\":0,\"submissionFileId\":3163,\"urlPublished\":\"https:\\/\\/engrxiv.sfulib4.publicknowledgeproject.org\\/preprint\\/view\\/2119\\/version\\/3179\\/4217\",\"urlRemote\":null}],\"id\":3179,\"locale\":\"en_US\",\"prefix\":{\"en_US\":\"\"},\"primaryContactId\":9153,\"pub-id::doi\":\"10.31224\\/2119\",\"pub-id::publisher-id\":null,\"relationStatus\":null,\"sectionId\":1,\"status\":3,\"submissionId\":2119,\"subtitle\":{\"en_US\":\"\"},\"title\":{\"en_US\":\"The Discovery of Calcite Intrinsic Wettability by the First-Ever Optical Illumination Inside Dark Fluid using IRIDW Apparatus\"},\"urlPublished\":\"https:\\/\\/engrxiv.sfulib4.publicknowledgeproject.org\\/preprint\\/view\\/2119\\/version\\/3179\",\"version\":1,\"vorDoi\":null}],\"stageId\":5,\"status\":3,\"statusLabel\":\"Published\",\"submissionProgress\":0,\"urlAuthorWorkflow\":\"https:\\/\\/engrxiv.sfulib4.publicknowledgeproject.org\\/authorDashboard\\/submission\\/2119\",\"urlEditorialWorkflow\":\"https:\\/\\/engrxiv.sfulib4.publicknowledgeproject.org\\/workflow\\/access\\/2119\",\"urlPublished\":\"https:\\/\\/engrxiv.sfulib4.publicknowledgeproject.org\\/preprint\\/view\\/2119\",\"urlWorkflow\":\"https:\\/\\/engrxiv.sfulib4.publicknowledgeproject.org\\/workflow\\/access\\/2119\"},{\"_href\":\"https:\\/\\/engrxiv.sfulib4.publicknowledgeproject.org\\/api\\/v1\\/submissions\\/2118\",\"contextId\":1,\"currentPublicationId\":3178,\"dateLastActivity\":\"2022-02-01 01:31:32\",\"dateSubmitted\":\"2022-01-31 04:21:24\",\"doiSuffix\":null,\"id\":2118,\"lastModified\":\"2022-01-31 04:21:24\",\"locale\":\"en_US\",\"pub-id::doi\":null,\"publications\":[{\"_href\":\"https:\\/\\/engrxiv.sfulib4.publicknowledgeproject.org\\/api\\/v1\\/submissions\\/2118\\/publications\\/3178\",\"authorsString\":\"Prakash\",\"authorsStringShort\":\"Prakash\",\"categoryIds\":[],\"coverImage\":{\"en_US\":null},\"datePublished\":null,\"doiSuffix\":null,\"fullTitle\":{\"en_US\":\"The Packing system for coco peat blocks\"},\"galleys\":[{\"doiSuffix\":null,\"id\":4218,\"isApproved\":false,\"label\":\"PDF\",\"locale\":\"en_US\",\"pub-id::doi\":null,\"pub-id::publisher-id\":null,\"publicationId\":3178,\"seq\":0,\"submissionFileId\":3164,\"urlPublished\":\"https:\\/\\/engrxiv.sfulib4.publicknowledgeproject.org\\/preprint\\/view\\/2118\\/version\\/3178\\/4218\",\"urlRemote\":\"\"}],\"id\":3178,\"locale\":\"en_US\",\"prefix\":{\"en_US\":\"The\"},\"primaryContactId\":9152,\"pub-id::doi\":\"10.31224\\/2118\",\"pub-id::publisher-id\":\"https:\\/\\/orcid.org\\/0000-0002-1745-9657\",\"relationStatus\":2,\"sectionId\":1,\"status\":1,\"submissionId\":2118,\"subtitle\":{\"en_US\":\"\"},\"title\":{\"en_US\":\"Packing system for coco peat blocks\"},\"urlPublished\":\"https:\\/\\/engrxiv.sfulib4.publicknowledgeproject.org\\/preprint\\/view\\/2118\\/version\\/3178\",\"version\":1,\"vorDoi\":null}],\"stageId\":5,\"status\":4,\"statusLabel\":\"Declined\",\"submissionProgress\":0,\"urlAuthorWorkflow\":\"https:\\/\\/engrxiv.sfulib4.publicknowledgeproject.org\\/authorDashboard\\/submission\\/2118\",\"urlEditorialWorkflow\":\"https:\\/\\/engrxiv.sfulib4.publicknowledgeproject.org\\/workflow\\/access\\/2118\",\"urlPublished\":\"https:\\/\\/engrxiv.sfulib4.publicknowledgeproject.org\\/preprint\\/view\\/2118\",\"urlWorkflow\":\"https:\\/\\/engrxiv.sfulib4.publicknowledgeproject.org\\/workflow\\/access\\/2118\"},{\"_href\":\"https:\\/\\/engrxiv.sfulib4.publicknowledgeproject.org\\/api\\/v1\\/submissions\\/2116\",\"contextId\":1,\"currentPublicationId\":3176,\"dateLastActivity\":\"2022-02-01 06:09:40\",\"dateSubmitted\":\"2022-01-30 06:07:16\",\"doiSuffix\":null,\"id\":2116,\"lastModified\":\"2022-01-30 06:07:16\",\"locale\":\"en_US\",\"pub-id::doi\":null,\"publications\":[{\"_href\":\"https:\\/\\/engrxiv.sfulib4.publicknowledgeproject.org\\/api\\/v1\\/submissions\\/2116\\/publications\\/3176\",\"authorsString\":\"Kurniawan D. Irianto\",\"authorsStringShort\":\"Irianto\",\"categoryIds\":[],\"coverImage\":{\"en_US\":null},\"datePublished\":\"2022-01-30\",\"doiSuffix\":null,\"fullTitle\":{\"en_US\":\"Design of Smart Farm Irrigation Monitoring System Using IoT and LoRA\"},\"galleys\":[{\"doiSuffix\":null,\"id\":4212,\"isApproved\":false,\"label\":\"pdf\",\"locale\":\"en_US\",\"pub-id::doi\":null,\"pub-id::publisher-id\":null,\"publicationId\":3176,\"seq\":0,\"submissionFileId\":3158,\"urlPublished\":\"https:\\/\\/engrxiv.sfulib4.publicknowledgeproject.org\\/preprint\\/view\\/2116\\/version\\/3176\\/4212\",\"urlRemote\":null}],\"id\":3176,\"locale\":\"en_US\",\"prefix\":{\"en_US\":\"\"},\"primaryContactId\":9150,\"pub-id::doi\":\"10.31224\\/2116\",\"pub-id::publisher-id\":null,\"relationStatus\":3,\"sectionId\":1,\"status\":3,\"submissionId\":2116,\"subtitle\":{\"en_US\":\"\"},\"title\":{\"en_US\":\"Design of Smart Farm Irrigation Monitoring System Using IoT and LoRA\"},\"urlPublished\":\"https:\\/\\/engrxiv.sfulib4.publicknowledgeproject.org\\/preprint\\/view\\/2116\\/version\\/3176\",\"version\":1,\"vorDoi\":\"https:\\/\\/doi.org\\/10.29207\\/resti.v6i1.3707\"}],\"stageId\":5,\"status\":3,\"statusLabel\":\"Published\",\"submissionProgress\":0,\"urlAuthorWorkflow\":\"https:\\/\\/engrxiv.sfulib4.publicknowledgeproject.org\\/authorDashboard\\/submission\\/2116\",\"urlEditorialWorkflow\":\"https:\\/\\/engrxiv.sfulib4.publicknowledgeproject.org\\/workflow\\/access\\/2116\",\"urlPublished\":\"https:\\/\\/engrxiv.sfulib4.publicknowledgeproject.org\\/preprint\\/view\\/2116\",\"urlWorkflow\":\"https:\\/\\/engrxiv.sfulib4.publicknowledgeproject.org\\/workflow\\/access\\/2116\"},{\"_href\":\"https:\\/\\/engrxiv.sfulib4.publicknowledgeproject.org\\/api\\/v1\\/submissions\\/2112\",\"contextId\":1,\"currentPublicationId\":3172,\"dateLastActivity\":\"2022-01-28 09:25:11\",\"dateSubmitted\":\"2022-01-28 09:13:58\",\"doiSuffix\":null,\"id\":2112,\"lastModified\":\"2022-01-28 09:13:58\",\"locale\":\"en_US\",\"pub-id::doi\":null,\"publications\":[{\"_href\":\"https:\\/\\/engrxiv.sfulib4.publicknowledgeproject.org\\/api\\/v1\\/submissions\\/2112\\/publications\\/3172\",\"authorsString\":\"Dr Jack Denny, Prof Genevieve Langdon, Dr Sam Rigby, Dr Alex Dickinson, Prof James Batchelor, Lawrence Surey\",\"authorsStringShort\":\"Denny et al.\",\"categoryIds\":[],\"coverImage\":{\"en_US\":null},\"datePublished\":\"2022-01-28\",\"doiSuffix\":null,\"fullTitle\":{\"en_US\":\"A numerical investigation of blast-structure interaction effects on primary blast injury risk and the suitability of existing injury prediction methods\"},\"galleys\":[{\"doiSuffix\":null,\"id\":4210,\"isApproved\":false,\"label\":\"PDF\",\"locale\":\"en_US\",\"pub-id::doi\":null,\"pub-id::publisher-id\":null,\"publicationId\":3172,\"seq\":0,\"submissionFileId\":3157,\"urlPublished\":\"https:\\/\\/engrxiv.sfulib4.publicknowledgeproject.org\\/preprint\\/view\\/2112\\/version\\/3172\\/4210\",\"urlRemote\":\"\"}],\"id\":3172,\"locale\":\"en_US\",\"prefix\":{\"en_US\":\"\"},\"primaryContactId\":9141,\"pub-id::doi\":\"10.31224\\/2112\",\"pub-id::publisher-id\":null,\"relationStatus\":null,\"sectionId\":1,\"status\":3,\"submissionId\":2112,\"subtitle\":{\"en_US\":\"\"},\"title\":{\"en_US\":\"A numerical investigation of blast-structure interaction effects on primary blast injury risk and the suitability of existing injury prediction methods\"},\"urlPublished\":\"https:\\/\\/engrxiv.sfulib4.publicknowledgeproject.org\\/preprint\\/view\\/2112\\/version\\/3172\",\"version\":1,\"vorDoi\":null}],\"stageId\":5,\"status\":3,\"statusLabel\":\"Published\",\"submissionProgress\":0,\"urlAuthorWorkflow\":\"https:\\/\\/engrxiv.sfulib4.publicknowledgeproject.org\\/authorDashboard\\/submission\\/2112\",\"urlEditorialWorkflow\":\"https:\\/\\/engrxiv.sfulib4.publicknowledgeproject.org\\/workflow\\/access\\/2112\",\"urlPublished\":\"https:\\/\\/engrxiv.sfulib4.publicknowledgeproject.org\\/preprint\\/view\\/2112\",\"urlWorkflow\":\"https:\\/\\/engrxiv.sfulib4.publicknowledgeproject.org\\/workflow\\/access\\/2112\"},{\"_href\":\"https:\\/\\/engrxiv.sfulib4.publicknowledgeproject.org\\/api\\/v1\\/submissions\\/2111\",\"contextId\":1,\"currentPublicationId\":3171,\"dateLastActivity\":\"2022-01-27 18:07:32\",\"dateSubmitted\":\"2022-01-27 18:07:32\",\"doiSuffix\":null,\"id\":2111,\"lastModified\":\"2022-01-27 18:07:32\",\"locale\":\"en_US\",\"pub-id::doi\":null,\"publications\":[{\"_href\":\"https:\\/\\/engrxiv.sfulib4.publicknowledgeproject.org\\/api\\/v1\\/submissions\\/2111\\/publications\\/3171\",\"authorsString\":\"pkpadmin pkpadmin\",\"authorsStringShort\":\"pkpadmin\",\"categoryIds\":[],\"coverImage\":{\"en_US\":null},\"datePublished\":null,\"doiSuffix\":null,\"fullTitle\":{\"en_US\":\"PKP Test Submission - Please Ignore\"},\"galleys\":[],\"id\":3171,\"locale\":\"en_US\",\"prefix\":{\"en_US\":\"\"},\"primaryContactId\":9140,\"pub-id::doi\":\"10.31224\\/2111\",\"pub-id::publisher-id\":null,\"relationStatus\":null,\"sectionId\":1,\"status\":1,\"submissionId\":2111,\"subtitle\":{\"en_US\":\"\"},\"title\":{\"en_US\":\"PKP Test Submission - Please Ignore\"},\"urlPublished\":\"https:\\/\\/engrxiv.sfulib4.publicknowledgeproject.org\\/preprint\\/view\\/2111\\/version\\/3171\",\"version\":1,\"vorDoi\":null}],\"stageId\":5,\"status\":1,\"statusLabel\":\"Queued\",\"submissionProgress\":0,\"urlAuthorWorkflow\":\"https:\\/\\/engrxiv.sfulib4.publicknowledgeproject.org\\/authorDashboard\\/submission\\/2111\",\"urlEditorialWorkflow\":\"https:\\/\\/engrxiv.sfulib4.publicknowledgeproject.org\\/workflow\\/access\\/2111\",\"urlPublished\":\"https:\\/\\/engrxiv.sfulib4.publicknowledgeproject.org\\/preprint\\/view\\/2111\",\"urlWorkflow\":\"https:\\/\\/engrxiv.sfulib4.publicknowledgeproject.org\\/workflow\\/access\\/2111\"},{\"_href\":\"https:\\/\\/engrxiv.sfulib4.publicknowledgeproject.org\\/api\\/v1\\/submissions\\/2110\",\"contextId\":1,\"currentPublicationId\":3170,\"dateLastActivity\":\"2022-01-27 09:41:39\",\"dateSubmitted\":\"2022-01-27 00:08:03\",\"doiSuffix\":null,\"id\":2110,\"lastModified\":\"2022-01-27 00:08:03\",\"locale\":\"en_US\",\"pub-id::doi\":null,\"publications\":[{\"_href\":\"https:\\/\\/engrxiv.sfulib4.publicknowledgeproject.org\\/api\\/v1\\/submissions\\/2110\\/publications\\/3170\",\"authorsString\":\"Yoji Yamato\",\"authorsStringShort\":\"Yamato\",\"categoryIds\":[],\"coverImage\":{\"en_US\":null},\"datePublished\":\"2022-01-27\",\"doiSuffix\":null,\"fullTitle\":{\"en_US\":\"Initial study of software reconfiguration during service operation\"},\"galleys\":[{\"doiSuffix\":null,\"id\":4208,\"isApproved\":false,\"label\":\"PDF\",\"locale\":\"en_US\",\"pub-id::doi\":null,\"pub-id::publisher-id\":null,\"publicationId\":3170,\"seq\":0,\"submissionFileId\":3155,\"urlPublished\":\"https:\\/\\/engrxiv.sfulib4.publicknowledgeproject.org\\/preprint\\/view\\/2110\\/version\\/3170\\/4208\",\"urlRemote\":\"\"}],\"id\":3170,\"locale\":\"en_US\",\"prefix\":{\"en_US\":\"\"},\"primaryContactId\":9139,\"pub-id::doi\":\"10.31224\\/2110\",\"pub-id::publisher-id\":null,\"relationStatus\":null,\"sectionId\":1,\"status\":3,\"submissionId\":2110,\"subtitle\":{\"en_US\":\"\"},\"title\":{\"en_US\":\"Initial study of software reconfiguration during service operation\"},\"urlPublished\":\"https:\\/\\/engrxiv.sfulib4.publicknowledgeproject.org\\/preprint\\/view\\/2110\\/version\\/3170\",\"version\":1,\"vorDoi\":null}],\"stageId\":5,\"status\":3,\"statusLabel\":\"Published\",\"submissionProgress\":0,\"urlAuthorWorkflow\":\"https:\\/\\/engrxiv.sfulib4.publicknowledgeproject.org\\/authorDashboard\\/submission\\/2110\",\"urlEditorialWorkflow\":\"https:\\/\\/engrxiv.sfulib4.publicknowledgeproject.org\\/workflow\\/access\\/2110\",\"urlPublished\":\"https:\\/\\/engrxiv.sfulib4.publicknowledgeproject.org\\/preprint\\/view\\/2110\",\"urlWorkflow\":\"https:\\/\\/engrxiv.sfulib4.publicknowledgeproject.org\\/workflow\\/access\\/2110\"},{\"_href\":\"https:\\/\\/engrxiv.sfulib4.publicknowledgeproject.org\\/api\\/v1\\/submissions\\/2109\",\"contextId\":1,\"currentPublicationId\":3167,\"dateLastActivity\":\"2022-01-27 04:22:43\",\"dateSubmitted\":\"2022-01-25 09:19:09\",\"doiSuffix\":null,\"id\":2109,\"lastModified\":\"2022-01-25 09:19:09\",\"locale\":\"en_US\",\"pub-id::doi\":null,\"publications\":[{\"_href\":\"https:\\/\\/engrxiv.sfulib4.publicknowledgeproject.org\\/api\\/v1\\/submissions\\/2109\\/publications\\/3167\",\"authorsString\":\"LIANGFU GE, Danhui Dan, Ki Young Koo, Yifeng Chen\",\"authorsStringShort\":\"GE et al.\",\"categoryIds\":[],\"coverImage\":{\"en_US\":null},\"datePublished\":\"2022-01-25\",\"doiSuffix\":null,\"fullTitle\":{\"en_US\":\"Long-term monitoring system for full-bridge traffic load distribution on long-span bridges\"},\"galleys\":[{\"doiSuffix\":null,\"id\":4204,\"isApproved\":false,\"label\":\"PDF\",\"locale\":\"en_US\",\"pub-id::doi\":null,\"pub-id::publisher-id\":null,\"publicationId\":3167,\"seq\":0,\"submissionFileId\":3153,\"urlPublished\":\"https:\\/\\/engrxiv.sfulib4.publicknowledgeproject.org\\/preprint\\/view\\/2109\\/version\\/3167\\/4204\",\"urlRemote\":\"\"}],\"id\":3167,\"locale\":\"en_US\",\"prefix\":{\"en_US\":\"\"},\"primaryContactId\":9127,\"pub-id::doi\":\"10.31224\\/2109\",\"pub-id::publisher-id\":null,\"relationStatus\":2,\"sectionId\":1,\"status\":3,\"submissionId\":2109,\"subtitle\":{\"en_US\":\"\"},\"title\":{\"en_US\":\"Long-term monitoring system for full-bridge traffic load distribution on long-span bridges\"},\"urlPublished\":\"https:\\/\\/engrxiv.sfulib4.publicknowledgeproject.org\\/preprint\\/view\\/2109\\/version\\/3167\",\"version\":1,\"vorDoi\":null}],\"stageId\":5,\"status\":3,\"statusLabel\":\"Published\",\"submissionProgress\":0,\"urlAuthorWorkflow\":\"https:\\/\\/engrxiv.sfulib4.publicknowledgeproject.org\\/authorDashboard\\/submission\\/2109\",\"urlEditorialWorkflow\":\"https:\\/\\/engrxiv.sfulib4.publicknowledgeproject.org\\/workflow\\/access\\/2109\",\"urlPublished\":\"https:\\/\\/engrxiv.sfulib4.publicknowledgeproject.org\\/preprint\\/view\\/2109\",\"urlWorkflow\":\"https:\\/\\/engrxiv.sfulib4.publicknowledgeproject.org\\/workflow\\/access\\/2109\"}]}\n"
     ]
    }
   ],
   "source": [
    "# Parse environment variables\n",
    "load_dotenv()\n",
    "\n",
    "# Set base URL\n",
    "api = 'https://engrxiv.sfulib4.publicknowledgeproject.org/index.php/engrxiv/api/v1'\n",
    "url = api + '/submissions'\n",
    "\n",
    "# Retrieve API Token from environment variable\n",
    "apiToken = os.environ.get('ENGRXIV_API_TOKEN')\n",
    "\n",
    "# Retrieve Basic Authentication, also from environment variable\n",
    "basicAuthUser = os.environ.get('ENGRXIV_API_USER')\n",
    "basicAuthPass = os.environ.get('ENGRXIV_API_PASS')\n",
    "\n",
    "# Setup request\n",
    "basic = HTTPBasicAuth(basicAuthUser, basicAuthPass)\n",
    "params = {'apiToken': apiToken}\n",
    "response = requests.get(url, auth=basic, params=params)\n",
    "data = response.text\n",
    "print(data)"
   ]
  },
  {
   "cell_type": "code",
   "execution_count": 28,
   "id": "indonesian-resistance",
   "metadata": {
    "execution": {
     "iopub.execute_input": "2022-01-19T22:12:07.882081Z",
     "iopub.status.busy": "2022-01-19T22:12:07.881613Z",
     "iopub.status.idle": "2022-01-19T22:12:10.244492Z",
     "shell.execute_reply": "2022-01-19T22:12:10.244857Z"
    },
    "jupyter": {
     "source_hidden": true
    },
    "papermill": {
     "duration": 2.370875,
     "end_time": "2022-01-19T22:12:10.244982",
     "exception": false,
     "start_time": "2022-01-19T22:12:07.874107",
     "status": "completed"
    },
    "tags": []
   },
   "outputs": [],
   "source": [
    "# url = 'https://osf.io/ns9yr/download'\n",
    "# urllib.request.urlretrieve(url, 'data.csv')\n",
    "# data = pd.read_csv('data.csv', parse_dates=['Date created']).sort_values(by=['Date created'])\n",
    "# data.set_index('Date created',inplace=True)\n",
    "# data['count'] = range(1,len(data) + 1)\n",
    "# countsum = data['count'][-1]\n",
    "# DLsum = data['Download count'].sum()\n",
    "# today = date.today()\n",
    "# display(Markdown('# As of ' + today.strftime(\"%B %d, %Y\") + ' there are <span style=\\\"color:red\\\">'+ str(countsum) + '</span> preprints on Engineering Archive and they have been downloaded <span style=\\\"color:red\\\">'+ str(DLsum) + '</span> times!'))"
   ]
  },
  {
   "cell_type": "code",
   "execution_count": 29,
   "id": "heard-result",
   "metadata": {
    "execution": {
     "iopub.execute_input": "2022-01-19T22:12:10.260659Z",
     "iopub.status.busy": "2022-01-19T22:12:10.260197Z",
     "iopub.status.idle": "2022-01-19T22:12:10.426565Z",
     "shell.execute_reply": "2022-01-19T22:12:10.426175Z"
    },
    "jupyter": {
     "source_hidden": true
    },
    "papermill": {
     "duration": 0.17568,
     "end_time": "2022-01-19T22:12:10.426669",
     "exception": false,
     "start_time": "2022-01-19T22:12:10.250989",
     "status": "completed"
    },
    "tags": []
   },
   "outputs": [],
   "source": [
    "# outplot = data.plot(y='count', legend=False, grid='True', figsize=(12,6));\n",
    "# outplot.set_xlabel(\"Date Posted\");\n",
    "# outplot.set_ylabel(\"Number of engrXiv prints\");"
   ]
  },
  {
   "cell_type": "code",
   "execution_count": 30,
   "id": "falling-scene",
   "metadata": {
    "execution": {
     "iopub.execute_input": "2022-01-19T22:12:10.444048Z",
     "iopub.status.busy": "2022-01-19T22:12:10.443583Z",
     "iopub.status.idle": "2022-01-19T22:12:10.609716Z",
     "shell.execute_reply": "2022-01-19T22:12:10.608980Z"
    },
    "jupyter": {
     "source_hidden": true
    },
    "papermill": {
     "duration": 0.176281,
     "end_time": "2022-01-19T22:12:10.609824",
     "exception": false,
     "start_time": "2022-01-19T22:12:10.433543",
     "status": "completed"
    },
    "tags": []
   },
   "outputs": [],
   "source": [
    "# outplot2 = data.resample('M').count().plot(y='count', legend=False, grid='True', figsize=(12,6));\n",
    "# outplot2.set_xlabel(\"Date Posted\");\n",
    "# outplot2.set_ylabel(\"Number of engrXiv prints posted per month\");"
   ]
  },
  {
   "cell_type": "code",
   "execution_count": 31,
   "id": "intense-reading",
   "metadata": {
    "execution": {
     "iopub.execute_input": "2022-01-19T22:12:10.631966Z",
     "iopub.status.busy": "2022-01-19T22:12:10.629836Z",
     "iopub.status.idle": "2022-01-19T22:12:10.760739Z",
     "shell.execute_reply": "2022-01-19T22:12:10.760365Z"
    },
    "jupyter": {
     "source_hidden": true
    },
    "papermill": {
     "duration": 0.14288,
     "end_time": "2022-01-19T22:12:10.760841",
     "exception": false,
     "start_time": "2022-01-19T22:12:10.617961",
     "status": "completed"
    },
    "tags": []
   },
   "outputs": [],
   "source": [
    "# outplot3 = data.resample('Y', kind='period').count().plot.bar(y='count', legend=False, rot=0, grid='True', figsize=(12,6));\n",
    "# outplot3.set_xlabel(\"Date Posted\");\n",
    "# outplot3.set_ylabel(\"Number of engrXiv prints posted per year\");\n",
    "# outplot3.grid(axis='x');"
   ]
  },
  {
   "cell_type": "code",
   "execution_count": 32,
   "id": "correct-january",
   "metadata": {
    "execution": {
     "iopub.execute_input": "2022-01-19T22:12:10.782527Z",
     "iopub.status.busy": "2022-01-19T22:12:10.782054Z",
     "iopub.status.idle": "2022-01-19T22:12:10.783862Z",
     "shell.execute_reply": "2022-01-19T22:12:10.784243Z"
    },
    "jupyter": {
     "source_hidden": true
    },
    "papermill": {
     "duration": 0.014731,
     "end_time": "2022-01-19T22:12:10.784348",
     "exception": false,
     "start_time": "2022-01-19T22:12:10.769617",
     "status": "completed"
    },
    "tags": []
   },
   "outputs": [
    {
     "data": {
      "text/html": [
       "<style>\n",
       "div.input {\n",
       "    display:none;\n",
       "}\n",
       "</style>\n"
      ],
      "text/plain": [
       "<IPython.core.display.HTML object>"
      ]
     },
     "metadata": {},
     "output_type": "display_data"
    }
   ],
   "source": [
    "%%html\n",
    "<style>\n",
    "div.input {\n",
    "    display:none;\n",
    "}\n",
    "</style>"
   ]
  }
 ],
 "metadata": {
  "kernelspec": {
   "display_name": "Python 3.10.6 64-bit",
   "language": "python",
   "name": "python3"
  },
  "language_info": {
   "codemirror_mode": {
    "name": "ipython",
    "version": 3
   },
   "file_extension": ".py",
   "mimetype": "text/x-python",
   "name": "python",
   "nbconvert_exporter": "python",
   "pygments_lexer": "ipython3",
   "version": "3.10.6"
  },
  "papermill": {
   "duration": 6.180299,
   "end_time": "2022-01-19T22:12:11.009740",
   "environment_variables": {},
   "exception": null,
   "input_path": "engrXiv_prints.ipynb",
   "output_path": "engrXiv_prints.ipynb",
   "parameters": {
    "Start": "True",
    "secretsPath": "/home/runner/work/_temp/secrets.json"
   },
   "start_time": "2022-01-19T22:12:04.829441",
   "version": "1.1.16"
  },
  "vscode": {
   "interpreter": {
    "hash": "b0fa6594d8f4cbf19f97940f81e996739fb7646882a419484c72d19e05852a7e"
   }
  }
 },
 "nbformat": 4,
 "nbformat_minor": 5
}
