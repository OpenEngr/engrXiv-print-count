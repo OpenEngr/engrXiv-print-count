{
 "cells": [
  {
   "cell_type": "code",
   "execution_count": 17,
   "id": "promising-potter",
   "metadata": {
    "papermill": {
     "duration": 1.022696,
     "end_time": "2024-12-15T10:26:56.607178",
     "exception": false,
     "start_time": "2024-12-15T10:26:55.584482",
     "status": "completed"
    },
    "tags": []
   },
   "outputs": [],
   "source": [
    "import os\n",
    "import json\n",
    "import requests\n",
    "from requests.auth import HTTPBasicAuth\n",
    "import pandas as pd\n",
    "import matplotlib.pyplot as plt\n",
    "from datetime import date\n",
    "from IPython.display import display, Markdown\n",
    "%matplotlib inline"
   ]
  },
  {
   "cell_type": "code",
   "execution_count": null,
   "id": "52136c1b",
   "metadata": {
    "papermill": {
     "duration": 240.185128,
     "end_time": "2024-12-15T10:30:56.794392",
     "exception": false,
     "start_time": "2024-12-15T10:26:56.609264",
     "status": "completed"
    },
    "tags": []
   },
   "outputs": [],
   "source": [
    "# Set base URL\n",
    "api = 'https://engrxiv.org/index.php/engrxiv/api/v1'\n",
    "url = api + '/submissions'\n",
    "\n",
    "# Set API Token\n",
    "with open('key.json') as f:\n",
    "    keyf = json.load(f)\n",
    "    apiToken = keyf['key']\n",
    "\n",
    "# Handle pagination through results\n",
    "count = 100\n",
    "offset = 0\n",
    "itemsStore = []\n",
    "\n",
    "def paginateRequests(offset):\n",
    "  # Setup request\n",
    "  params = {'apiToken': apiToken, 'count': count, 'offset': offset}\n",
    "  headers = {'User-Agent': 'Mozilla/5.0 (Windows NT 10.0; Win64; x64) AppleWebKit/537.36 (KHTML, like Gecko) Chrome/111.0.0.0 Safari/537.36'}\n",
    "  response = requests.get(url, params=params, headers=headers)\n",
    "  #print('Offset: ' + str(offset))\n",
    "\n",
    "  # Convert response string to JSON\n",
    "  dataJson = json.loads(response.text)\n",
    "  # Grab the retrieved `items`\n",
    "  dataList = dataJson['items']\n",
    "  # Determine how many preprint submissions there are\n",
    "  totalItems = dataJson['itemsMax']\n",
    "  # Save items to memory\n",
    "  itemsStore.extend(dataList)\n",
    "  # Determine how many preprint submissions we have so far\n",
    "  numberStored = len(itemsStore)\n",
    "  #print(numberStored)\n",
    "\n",
    "  if numberStored < totalItems:\n",
    "    #print('Running another pagination request')\n",
    "    paginateRequests(numberStored)\n",
    "  else:\n",
    "    #print('Finished!')\n",
    "    itemsStore\n",
    "\n",
    "# Kick-off requests\n",
    "paginateRequests(0)"
   ]
  },
  {
   "cell_type": "code",
   "execution_count": 3,
   "id": "indonesian-resistance",
   "metadata": {
    "papermill": {
     "duration": 0.035844,
     "end_time": "2024-12-15T10:30:56.832113",
     "exception": false,
     "start_time": "2024-12-15T10:30:56.796269",
     "status": "completed"
    },
    "tags": []
   },
   "outputs": [
    {
     "data": {
      "text/markdown": [
       "# As of January 31, 2025 there are <span style=\"color:red\">3750</span> preprints on Engineering Archive."
      ],
      "text/plain": [
       "<IPython.core.display.Markdown object>"
      ]
     },
     "metadata": {},
     "output_type": "display_data"
    }
   ],
   "source": [
    "data = pd.DataFrame(itemsStore).sort_values(by=['dateSubmitted'])\n",
    "data['dateSubmitted'] = pd.to_datetime(data['dateSubmitted'])\n",
    "data = data.loc[data.status == 3] #Remove in-progress and declined submissions.\n",
    "data.set_index('dateSubmitted',inplace=True)\n",
    "\n",
    "count = range(1,len(data) + 1)\n",
    "data['count'] = count\n",
    "countsum = count[-1]\n",
    "today = date.today()\n",
    "display(Markdown('# As of ' + today.strftime(\"%B %d, %Y\") + ' there are <span style=\\\"color:red\\\">'+ str(countsum) + '</span> preprints on Engineering Archive.'))"
   ]
  },
  {
   "cell_type": "code",
   "execution_count": 13,
   "id": "heard-result",
   "metadata": {
    "papermill": {
     "duration": 0.347901,
     "end_time": "2024-12-15T10:30:57.181864",
     "exception": false,
     "start_time": "2024-12-15T10:30:56.833963",
     "status": "completed"
    },
    "tags": []
   },
   "outputs": [],
   "source": [
    "outplot = data.plot(y='count', legend=False, grid='True', figsize=(12,6));\n",
    "outplot.set_xlabel(\"Date Posted\");\n",
    "outplot.set_ylabel(\"Number of engrXiv prints\");"
   ]
  },
  {
   "cell_type": "code",
   "execution_count": 15,
   "id": "falling-scene",
   "metadata": {
    "papermill": {
     "duration": 0.250123,
     "end_time": "2024-12-15T10:30:57.434478",
     "exception": false,
     "start_time": "2024-12-15T10:30:57.184355",
     "status": "completed"
    },
    "tags": []
   },
   "outputs": [],
   "source": [
    "outplot2 = data.resample('ME').count().plot(y='count', legend=False, grid='True', figsize=(12,6));\n",
    "outplot2.set_xlabel(\"Date Posted\");\n",
    "outplot2.set_ylabel(\"Number of engrXiv prints posted per month\");"
   ]
  },
  {
   "cell_type": "raw",
   "id": "2b737446-29a9-451d-987c-9a68f740f1f2",
   "metadata": {
    "papermill": {
     "duration": 0.193117,
     "end_time": "2024-12-15T10:30:57.630906",
     "exception": false,
     "start_time": "2024-12-15T10:30:57.437789",
     "status": "completed"
    },
    "tags": []
   },
   "source": [
    "outplot3 = data.resample('YE').count().plot.bar(y='count', legend=False, rot=0, grid='True', figsize=(12,6));\n",
    "outplot3.set_xlabel(\"Date Posted\");\n",
    "outplot3.set_ylabel(\"Number of engrXiv prints posted per year\");\n",
    "outplot3.xaxis.set_ticklabels(data.to_period('Y'))\n",
    "outplot3.grid(axis='x');\n",
    "\n",
    "plt.show()"
   ]
  },
  {
   "cell_type": "code",
   "execution_count": 6,
   "id": "correct-january",
   "metadata": {
    "papermill": {
     "duration": 0.010589,
     "end_time": "2024-12-15T10:30:57.645156",
     "exception": false,
     "start_time": "2024-12-15T10:30:57.634567",
     "status": "completed"
    },
    "tags": []
   },
   "outputs": [
    {
     "data": {
      "text/html": [
       "<style>\n",
       "div.input {\n",
       "    display:none;\n",
       "}\n",
       "</style>\n"
      ],
      "text/plain": [
       "<IPython.core.display.HTML object>"
      ]
     },
     "metadata": {},
     "output_type": "display_data"
    }
   ],
   "source": [
    "%%html\n",
    "<style>\n",
    "div.input {\n",
    "    display:none;\n",
    "}\n",
    "</style>"
   ]
  }
 ],
 "metadata": {
  "kernelspec": {
   "display_name": "Python 3 (ipykernel)",
   "language": "python",
   "name": "python3"
  },
  "language_info": {
   "codemirror_mode": {
    "name": "ipython",
    "version": 3
   },
   "file_extension": ".py",
   "mimetype": "text/x-python",
   "name": "python",
   "nbconvert_exporter": "python",
   "pygments_lexer": "ipython3",
   "version": "3.12.7"
  },
  "papermill": {
   "duration": 243.718853,
   "end_time": "2024-12-15T10:30:57.965107",
   "environment_variables": {},
   "exception": null,
   "input_path": "engrXiv_prints.ipynb",
   "output_path": "engrXiv_prints.ipynb",
   "parameters": {
    "Start": "True",
    "secretsPath": "/home/runner/work/_temp/secrets.json"
   },
   "start_time": "2024-12-15T10:26:54.246254",
   "version": "1.1.16"
  },
  "vscode": {
   "interpreter": {
    "hash": "b0fa6594d8f4cbf19f97940f81e996739fb7646882a419484c72d19e05852a7e"
   }
  }
 },
 "nbformat": 4,
 "nbformat_minor": 5
}
